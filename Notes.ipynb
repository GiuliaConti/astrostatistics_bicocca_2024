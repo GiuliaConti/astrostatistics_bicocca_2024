{
 "cells": [
  {
   "cell_type": "markdown",
   "id": "da7d3ba9-df32-43ca-9178-4e034422c78d",
   "metadata": {},
   "source": [
    "### Markdown"
   ]
  },
  {
   "cell_type": "markdown",
   "id": "12b9a360-6124-4e8f-b57c-72f8ed4f1112",
   "metadata": {},
   "source": [
    "All as latex\n",
    "\n",
    "$$ to the sides of formulas"
   ]
  },
  {
   "cell_type": "markdown",
   "id": "f4f68726-97d3-430c-92ca-f962a0c085d1",
   "metadata": {},
   "source": [
    "  "
   ]
  },
  {
   "cell_type": "markdown",
   "id": "0e3bb94c-b438-4cea-ba22-4bdf892903f0",
   "metadata": {},
   "source": [
    "### Include"
   ]
  },
  {
   "cell_type": "code",
   "execution_count": 3,
   "id": "7a9731d0-f4e6-4508-84a2-dd173ab6dedc",
   "metadata": {},
   "outputs": [],
   "source": [
    "import numpy as np                        # Math\n",
    "import scipy.stats                        # Statistics\n",
    "from matplotlib import pyplot as plt      # Plots"
   ]
  },
  {
   "cell_type": "markdown",
   "id": "94fbf036-5804-41c9-9836-8f9c79298da0",
   "metadata": {},
   "source": [
    "  "
   ]
  },
  {
   "cell_type": "markdown",
   "id": "de84952e-44c7-48df-bdfe-ddcd60aa511c",
   "metadata": {},
   "source": [
    "### Useful"
   ]
  },
  {
   "cell_type": "code",
   "execution_count": null,
   "id": "2b32c3b8-9e70-4558-bfd1-062fa18f4887",
   "metadata": {},
   "outputs": [],
   "source": [
    "np.linspace(min, max, num=50)\n",
    "np.mean(array)\n",
    "np.std(array)    # dof can be added if needed\n",
    "np.array([elements])\n",
    "np.zeros(N)      # array of zeros, with N elements\n",
    "np.sum(array)\n",
    "array.sort() \n",
    "array.shape()\n",
    "array.size()"
   ]
  },
  {
   "cell_type": "code",
   "execution_count": null,
   "id": "79787a2f-977f-4b5f-834a-ef5f3cbcdc8e",
   "metadata": {},
   "outputs": [],
   "source": [
    "# I can work vectorially !!!\n",
    "bin_mids = (bins[1:] + bins[:-1]) / 2    # mid location of bins"
   ]
  },
  {
   "cell_type": "markdown",
   "id": "843dbd23-28df-4857-bc9f-f34c836e88fe",
   "metadata": {},
   "source": [
    " "
   ]
  },
  {
   "cell_type": "markdown",
   "id": "14a99fbf-106e-48dd-a867-b36b36e02710",
   "metadata": {},
   "source": [
    "### Distributions"
   ]
  },
  {
   "cell_type": "markdown",
   "id": "cde12a2e-032a-4291-a345-a32d376a42bb",
   "metadata": {},
   "source": [
    "#### Gaussian\n",
    "https://docs.scipy.org/doc/scipy-0.13.0/reference/generated/scipy.stats.norm.html\n"
   ]
  },
  {
   "cell_type": "code",
   "execution_count": null,
   "id": "cf924add-fff8-4a58-9bf3-d7b151797a3a",
   "metadata": {},
   "outputs": [],
   "source": [
    "from scipy.stats import norm\n",
    "# Alternative: use everywhere scipy.stats.norm\n",
    "\n",
    "# \"Initialize\" the distribution\n",
    "gauss = norm(loc=0,scale=sigma)     # loc = mean, scale=std deviation\n",
    "\n",
    "# Generate random numbers\n",
    "R = norm.rvs(loc=0, scale=1, size=N)\n",
    "R = gauss.rvs(size=N)\n",
    "R = np.random.normal(loc=mean, scale=sigma, size=N)\n",
    "\n",
    "# Pdf given the points (to plot continuos distrib)\n",
    "f = norm.pdf(x, loc=0, scale=1)\n",
    "f = gauss.pdf(x)"
   ]
  },
  {
   "cell_type": "markdown",
   "id": "55e71833-84bf-43e8-889a-3053552bfcd1",
   "metadata": {},
   "source": [
    " "
   ]
  },
  {
   "cell_type": "markdown",
   "id": "41d876f5-53aa-4258-91db-8f3dbcbcec3b",
   "metadata": {},
   "source": [
    "#### Uniform"
   ]
  },
  {
   "cell_type": "code",
   "execution_count": null,
   "id": "2f08d584-9147-40ec-b501-66e2fafe3ec6",
   "metadata": {},
   "outputs": [],
   "source": [
    "# Generate random numbers\n",
    "u = np.random.uniform(min, max, npoints) "
   ]
  },
  {
   "cell_type": "markdown",
   "id": "f64969f5-677e-4681-add1-8a7c56233a21",
   "metadata": {},
   "source": [
    " "
   ]
  },
  {
   "cell_type": "markdown",
   "id": "006745f2-f58a-47ca-b5ef-8f1fe475c53f",
   "metadata": {},
   "source": [
    "### Histogram"
   ]
  },
  {
   "cell_type": "code",
   "execution_count": null,
   "id": "fd93e509-30c5-4488-bba0-6c0293e5bbe2",
   "metadata": {},
   "outputs": [],
   "source": [
    "plt.hist(x, bins=nbins, color=None, label=None)\n",
    "\n",
    "# density = True --> return height of the bins (of the NORMALIZED hist)\n",
    "# cumulative = True --> cumulative histogram\n",
    "# histtype{'bar', 'barstacked', 'step', 'stepfilled'}, default: 'bar'} --> type of hist\n",
    "# log = True --> the hist axis will be set to a log scale.\n",
    "\n",
    "# Returns --> n (array): values of the histogram bins\n",
    "#             bins (array): edges of the bins"
   ]
  },
  {
   "cell_type": "markdown",
   "id": "105fbfea-c054-4a6a-9a6a-883f65767849",
   "metadata": {
    "jp-MarkdownHeadingCollapsed": true
   },
   "source": [
    "Arguments:\n",
    "- density = True --> return height of the bins (of the NORMALIZED hist)\n",
    "- cumulative = True --> cumulative histogram\n",
    "- histtype{'bar', 'barstacked', 'step', 'stepfilled'} --> type of hist (default: 'bar')\n",
    "- log = True --> the hist axis will be set to a log scale.\n",
    "\n",
    "NB: bins = array --> it defines the hist binning using the array\n",
    "\n",
    "Returns:\n",
    "- n (array): values of the histogram bins\n",
    "- bins (array): edges of the bins"
   ]
  },
  {
   "cell_type": "code",
   "execution_count": null,
   "id": "f7d1cb3f-a740-41ea-b036-ec9ee9b71c54",
   "metadata": {},
   "outputs": [],
   "source": [
    "# form an array with elements smaller than (u,q) (where u,q corresponding vectors)\n",
    "\n",
    "counts, bins = np.histogram(data, bins=nbin, density=True)\n",
    "\n",
    "disth = scipy.stats.rv_histogram((counts,bins)) # crea func a gradino che segue l'istogramma \n",
    "mask = u<=disth.pdf(q) # assess whether u <= q(x_i)\n",
    "monte_carlo = q[mask] # reject all points that don't pass, using masking"
   ]
  },
  {
   "cell_type": "markdown",
   "id": "56dd26d1-48fd-4562-916e-9b4432260a42",
   "metadata": {},
   "source": [
    " "
   ]
  },
  {
   "cell_type": "markdown",
   "id": "6364fbbe-297e-4472-90f4-745de4fe8053",
   "metadata": {},
   "source": [
    "### Plot"
   ]
  },
  {
   "cell_type": "code",
   "execution_count": null,
   "id": "daa0a477-2d98-4a34-a6f2-d6868a978e48",
   "metadata": {},
   "outputs": [],
   "source": [
    "plt.plt(x, y)\n",
    "plt.plt(x, y, x1, y1, x2, y2)  # More than one set per time\n",
    "\n",
    "plt.scatter(x,y)  # Plot a punti\n",
    "\n",
    "# I can call multiple plot, then I can add the options such as\n",
    "plt.loglog()  # log scale\n",
    "plt.legend()\n",
    "\n",
    "# And at the end\n",
    "plt.show() "
   ]
  },
  {
   "cell_type": "markdown",
   "id": "5972cd11-22f7-4b34-a3c5-199c0e2ae745",
   "metadata": {},
   "source": [
    " "
   ]
  },
  {
   "cell_type": "markdown",
   "id": "cfdf7a07-d5af-4f97-97ba-8057ae9a9101",
   "metadata": {},
   "source": [
    "### Interpolation"
   ]
  },
  {
   "cell_type": "code",
   "execution_count": null,
   "id": "3a78cd19-3a56-4f7c-9e43-ad42058f3228",
   "metadata": {},
   "outputs": [],
   "source": [
    "f_interp = scipy.interpolate.interp1d(y, x)"
   ]
  },
  {
   "cell_type": "markdown",
   "id": "3e9a5dbd-6dc7-47a1-9366-0fa154d973d8",
   "metadata": {},
   "source": [
    " "
   ]
  },
  {
   "cell_type": "markdown",
   "id": "e9cb13c5-e37e-48c2-9b11-2f99b61f04c7",
   "metadata": {},
   "source": [
    "### Sklearn data"
   ]
  },
  {
   "cell_type": "markdown",
   "id": "bbd85382-86c3-4a76-8112-03bfcaeb6472",
   "metadata": {},
   "source": [
    "The data need to be of shape (N,1), not (N,)"
   ]
  },
  {
   "cell_type": "code",
   "execution_count": 4,
   "id": "300d22cd-0db8-40d7-a8d5-43cb649f2ea4",
   "metadata": {},
   "outputs": [
    {
     "name": "stdout",
     "output_type": "stream",
     "text": [
      "[0. 1. 2. 3. 4. 5.] (6,)\n",
      "[[0. 1. 2. 3. 4. 5.]] (1, 6)\n",
      "[[0.]\n",
      " [1.]\n",
      " [2.]\n",
      " [3.]\n",
      " [4.]\n",
      " [5.]] (6, 1)\n"
     ]
    }
   ],
   "source": [
    "x=np.linspace(0, 5, 6)\n",
    "print(x, x.shape)\n",
    "print(x[np.newaxis,:], x[np.newaxis,:].shape)\n",
    "print(x[:,np.newaxis], x[:,np.newaxis].shape)"
   ]
  },
  {
   "cell_type": "markdown",
   "id": "80ef9367-692e-4ed6-84b4-849d297f1605",
   "metadata": {},
   "source": [
    "### Others"
   ]
  },
  {
   "cell_type": "code",
   "execution_count": null,
   "id": "943a8bf7-d80a-4a4c-a8b6-fa965d975ce9",
   "metadata": {},
   "outputs": [],
   "source": [
    "np.unique(array) # new array without repetitions\n",
    "plt.axhline(y=0, xmin=0, xmax=1) # Add a horizontal line across the Axes."
   ]
  },
  {
   "cell_type": "code",
   "execution_count": null,
   "id": "f18192c4-4da1-40aa-be85-6be0b0ea2a32",
   "metadata": {},
   "outputs": [],
   "source": []
  }
 ],
 "metadata": {
  "kernelspec": {
   "display_name": "Python 3 (ipykernel)",
   "language": "python",
   "name": "python3"
  },
  "language_info": {
   "codemirror_mode": {
    "name": "ipython",
    "version": 3
   },
   "file_extension": ".py",
   "mimetype": "text/x-python",
   "name": "python",
   "nbconvert_exporter": "python",
   "pygments_lexer": "ipython3",
   "version": "3.11.2"
  }
 },
 "nbformat": 4,
 "nbformat_minor": 5
}
