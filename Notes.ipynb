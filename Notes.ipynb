{
 "cells": [
  {
   "cell_type": "markdown",
   "id": "da7d3ba9-df32-43ca-9178-4e034422c78d",
   "metadata": {},
   "source": [
    "## Markdown\n",
    "- All as latex\n",
    "- $$ to the sides of formulas\n",
    "- <span style=\"color:blue\"> word </span> "
   ]
  },
  {
   "cell_type": "markdown",
   "id": "f4f68726-97d3-430c-92ca-f962a0c085d1",
   "metadata": {},
   "source": [
    "  "
   ]
  },
  {
   "cell_type": "markdown",
   "id": "0e3bb94c-b438-4cea-ba22-4bdf892903f0",
   "metadata": {},
   "source": [
    "## Include"
   ]
  },
  {
   "cell_type": "code",
   "execution_count": null,
   "id": "7a9731d0-f4e6-4508-84a2-dd173ab6dedc",
   "metadata": {},
   "outputs": [],
   "source": [
    "import numpy as np          \n",
    "import scipy.stats   \n",
    "import pylab as plt "
   ]
  },
  {
   "cell_type": "markdown",
   "id": "c573e323-4815-4f9c-966f-95f67e36d21d",
   "metadata": {},
   "source": [
    " "
   ]
  },
  {
   "cell_type": "markdown",
   "id": "9c33f6e3-d46e-4f7d-bde1-31e45de6c165",
   "metadata": {},
   "source": [
    "## Random numbers"
   ]
  },
  {
   "cell_type": "code",
   "execution_count": null,
   "id": "58c1107c-047a-44c8-b626-175be6d29e52",
   "metadata": {},
   "outputs": [],
   "source": [
    "np.random.seed(42) # set the random seed\n",
    "\n",
    "random_state = np.random.RandomState(seed=0)   # to create an independent generator\n",
    "random_numbers = random_state.rand(5) # --> generate 5 random number from it"
   ]
  },
  {
   "cell_type": "markdown",
   "id": "3505b097-5bf1-408f-a265-d46f1b75b280",
   "metadata": {},
   "source": [
    " "
   ]
  },
  {
   "cell_type": "markdown",
   "id": "9cc3bf4d-1625-4b17-9264-5b5bb5530ae5",
   "metadata": {},
   "source": [
    "## Compact functions"
   ]
  },
  {
   "cell_type": "code",
   "execution_count": null,
   "id": "7919c483-289c-44fe-bd3f-1fd57d8d26e8",
   "metadata": {},
   "outputs": [],
   "source": [
    "mu_gamma_f = [(5, 1.0, 0.1),   # 5 set of possible parameters\n",
    "              (7, 0.5, 0.5),\n",
    "              (9, 0.1, 0.1),\n",
    "              (12, 0.5, 0.2),\n",
    "              (14, 1.0, 0.1)]\n",
    "hx = lambda x: sum([f * stats.cauchy(mu, gamma).pdf(x) \n",
    "                      for (mu, gamma, f) in mu_gamma_f])"
   ]
  },
  {
   "cell_type": "markdown",
   "id": "94fbf036-5804-41c9-9836-8f9c79298da0",
   "metadata": {},
   "source": [
    "  "
   ]
  },
  {
   "cell_type": "markdown",
   "id": "de84952e-44c7-48df-bdfe-ddcd60aa511c",
   "metadata": {},
   "source": [
    "### Useful"
   ]
  },
  {
   "cell_type": "code",
   "execution_count": null,
   "id": "2b32c3b8-9e70-4558-bfd1-062fa18f4887",
   "metadata": {},
   "outputs": [],
   "source": [
    "np.linspace(min, max, num=50)\n",
    "np.mean(array)\n",
    "np.std(array)    # dof can be added if needed\n",
    "np.array([elements])\n",
    "np.zeros(N)      # array of zeros, with N elements\n",
    "np.sum(array)\n",
    "np.arange(1, 10) # numeri (interi) fra 1 e 10\n",
    "np.concatenate(array1, array2)\n",
    "t,y,yerr=(np.array).T # traspone data (matrice 100x3) in 3x100 e assegna ognuna delle 3 righe ad un vettore\n",
    "np.argmin(vector)  # Find the index of the element with the minimum value in the vector\n",
    "\n",
    "array.sort() \n",
    "array.shape()\n",
    "array.size()\n",
    "array.astype(int)  # convertion in int\n",
    "array.reshape(-1, 1)  # reshape the array with only one column\n",
    "np.unique(array)   # new array deleting repetitions\n",
    "\n",
    "str(number)   # convertion in string"
   ]
  },
  {
   "cell_type": "markdown",
   "id": "6d931add-ed88-4beb-9ec4-c57328187404",
   "metadata": {},
   "source": [
    " "
   ]
  },
  {
   "cell_type": "code",
   "execution_count": null,
   "id": "79787a2f-977f-4b5f-834a-ef5f3cbcdc8e",
   "metadata": {},
   "outputs": [],
   "source": [
    "# I can work vectorially !!!\n",
    "bin_mids = (bins[1:] + bins[:-1]) / 2    # mid location of bins"
   ]
  },
  {
   "cell_type": "code",
   "execution_count": null,
   "id": "54efe535-61e4-47d1-a6e2-0a14d0f86520",
   "metadata": {},
   "outputs": [],
   "source": [
    "# Initialize a void vector of N components\n",
    "models = [None for i in range(N)]"
   ]
  },
  {
   "cell_type": "markdown",
   "id": "9de6c44e-a703-46a9-9a45-0e04cab857c5",
   "metadata": {},
   "source": [
    " "
   ]
  },
  {
   "cell_type": "markdown",
   "id": "09aaea88-982a-47b0-9363-588200a0b860",
   "metadata": {},
   "source": [
    "Read files"
   ]
  },
  {
   "cell_type": "code",
   "execution_count": null,
   "id": "ff720a85-0bb7-4e9c-ad81-c561e69ded1e",
   "metadata": {},
   "outputs": [],
   "source": [
    "# npy files\n",
    "input_file_path = '/Users/giulia/coding/astrostat/astrostatistics_bicocca_2024/solutions/transient.npy'\n",
    "data = np.load(input_file_path)\n",
    "\n",
    "# other files\n",
    "input_file_path = '/Users/giulia/coding/astrostat/astrostatistics_bicocca_2024/solutions/transient.npy'\n",
    "input_file = open(input_file_path)\n",
    "data = input_file.read()\n",
    "input_file.close()"
   ]
  },
  {
   "cell_type": "markdown",
   "id": "843dbd23-28df-4857-bc9f-f34c836e88fe",
   "metadata": {},
   "source": [
    " "
   ]
  },
  {
   "cell_type": "markdown",
   "id": "14a99fbf-106e-48dd-a867-b36b36e02710",
   "metadata": {},
   "source": [
    "# Distributions"
   ]
  },
  {
   "cell_type": "markdown",
   "id": "cde12a2e-032a-4291-a345-a32d376a42bb",
   "metadata": {},
   "source": [
    "## Gaussian\n",
    "https://docs.scipy.org/doc/scipy-0.13.0/reference/generated/scipy.stats.norm.html\n"
   ]
  },
  {
   "cell_type": "code",
   "execution_count": null,
   "id": "cf924add-fff8-4a58-9bf3-d7b151797a3a",
   "metadata": {},
   "outputs": [],
   "source": [
    "from scipy.stats import norm\n",
    "# Alternative: use everywhere scipy.stats.norm\n",
    "\n",
    "# \"Initialize\" the distribution\n",
    "gauss = norm(loc=0,scale=sigma)     # loc = mean, scale=std deviation\n",
    "\n",
    "# Generate random numbers\n",
    "R = norm.rvs(loc=0, scale=1, size=N)\n",
    "R = gauss.rvs(size=N)\n",
    "R = np.random.normal(loc=mean, scale=sigma, size=N)\n",
    "\n",
    "# Pdf given the points (to plot continuos distrib)\n",
    "f = norm.pdf(x, loc=0, scale=1)\n",
    "f = gauss.pdf(x)"
   ]
  },
  {
   "cell_type": "markdown",
   "id": "55e71833-84bf-43e8-889a-3053552bfcd1",
   "metadata": {},
   "source": [
    " "
   ]
  },
  {
   "cell_type": "markdown",
   "id": "41d876f5-53aa-4258-91db-8f3dbcbcec3b",
   "metadata": {},
   "source": [
    "## Uniform"
   ]
  },
  {
   "cell_type": "code",
   "execution_count": null,
   "id": "2f08d584-9147-40ec-b501-66e2fafe3ec6",
   "metadata": {},
   "outputs": [],
   "source": [
    "# Generate random numbers\n",
    "u = np.random.uniform(min, max, npoints) "
   ]
  },
  {
   "cell_type": "markdown",
   "id": "f64969f5-677e-4681-add1-8a7c56233a21",
   "metadata": {},
   "source": [
    " "
   ]
  },
  {
   "cell_type": "markdown",
   "id": "006745f2-f58a-47ca-b5ef-8f1fe475c53f",
   "metadata": {},
   "source": [
    "# Histogram"
   ]
  },
  {
   "cell_type": "code",
   "execution_count": null,
   "id": "fd93e509-30c5-4488-bba0-6c0293e5bbe2",
   "metadata": {},
   "outputs": [],
   "source": [
    "plt.hist(x, bins=nbins, color=None, label=None)\n",
    "\n",
    "# density = True --> return height of the bins (of the NORMALIZED hist)\n",
    "# cumulative = True --> cumulative histogram\n",
    "# histtype{'bar', 'barstacked', 'step', 'stepfilled'}, default: 'bar'} --> type of hist\n",
    "# log = True --> the hist axis will be set to a log scale.\n",
    "\n",
    "# Returns --> n (array): values of the histogram bins\n",
    "#             bins (array): edges of the bins"
   ]
  },
  {
   "cell_type": "markdown",
   "id": "105fbfea-c054-4a6a-9a6a-883f65767849",
   "metadata": {
    "jp-MarkdownHeadingCollapsed": true
   },
   "source": [
    "Arguments:\n",
    "- density = True --> return height of the bins (of the NORMALIZED hist)\n",
    "- cumulative = True --> cumulative histogram\n",
    "- histtype{'bar', 'barstacked', 'step', 'stepfilled'} --> type of hist (default: 'bar')\n",
    "- log = True --> the hist axis will be set to a log scale.\n",
    "\n",
    "NB: bins = array --> it defines the hist binning using the array\n",
    "\n",
    "Returns:\n",
    "- n (array): values of the histogram bins\n",
    "- bins (array): edges of the bins"
   ]
  },
  {
   "cell_type": "markdown",
   "id": "c9c07dea-de67-468f-ba31-2fecc7d7764c",
   "metadata": {},
   "source": [
    "#### Hist with Scott's or Freedman-Diaconis rule"
   ]
  },
  {
   "cell_type": "code",
   "execution_count": null,
   "id": "ff8cd938-92d6-46fe-acd9-fa566d7305fb",
   "metadata": {},
   "outputs": [],
   "source": [
    "from astropy.visualization.hist import hist\n",
    "_ = hist(x, bins=\"scott\", histtype=\"step\",density=True)\n",
    "_ = hist(x, bins=\"freedman\", histtype=\"step\",density=True)\n",
    "plt.xlim(-5,25)"
   ]
  },
  {
   "cell_type": "markdown",
   "id": "e6589e23-d4ef-4a75-9b82-3d22d6a1239e",
   "metadata": {},
   "source": [
    "#### Rug plot"
   ]
  },
  {
   "cell_type": "code",
   "execution_count": null,
   "id": "987754da-9ecc-4caf-bcf3-15970d8aa7e4",
   "metadata": {},
   "outputs": [],
   "source": [
    "plt.plot(x[:100], 0*x[:100], '|', color='k', markersize=25)"
   ]
  },
  {
   "cell_type": "markdown",
   "id": "2d064a2a-70de-4a88-a9b9-60d54fb118d9",
   "metadata": {},
   "source": [
    "#### Colormap"
   ]
  },
  {
   "cell_type": "code",
   "execution_count": null,
   "id": "9fe132bd-f8b6-4c0f-90ae-69bcabecabd1",
   "metadata": {},
   "outputs": [],
   "source": [
    "from matplotlib.colors import ListedColormap\n",
    "cmap = ListedColormap(plt.cm.tab10.colors) # change based on https://matplotlib.org/stable/users/explain/colors/colormaps.html\n",
    "\n",
    "scatter = plt.scatter(x, y, c=labels, cmap=cmap)\n",
    "plt.colorbar(label='digit label', ticks=np.arange(number_of_labels))  # display the colormap\n",
    "plt.clim(-0.5, 9.5) # make it clear which color goes with which label"
   ]
  },
  {
   "cell_type": "markdown",
   "id": "53cccc09-0d9d-4a5f-8333-f283ebcedeb3",
   "metadata": {},
   "source": [
    "# Mask"
   ]
  },
  {
   "cell_type": "code",
   "execution_count": null,
   "id": "f7d1cb3f-a740-41ea-b036-ec9ee9b71c54",
   "metadata": {},
   "outputs": [],
   "source": [
    "mask = u<=condition # assess whether u <= q(x_i)\n",
    "q_new = q[mask] # reject all points that don't pass, using masking"
   ]
  },
  {
   "cell_type": "markdown",
   "id": "56dd26d1-48fd-4562-916e-9b4432260a42",
   "metadata": {},
   "source": [
    " "
   ]
  },
  {
   "cell_type": "markdown",
   "id": "6364fbbe-297e-4472-90f4-745de4fe8053",
   "metadata": {},
   "source": [
    "# Plot"
   ]
  },
  {
   "cell_type": "code",
   "execution_count": null,
   "id": "daa0a477-2d98-4a34-a6f2-d6868a978e48",
   "metadata": {},
   "outputs": [],
   "source": [
    "plt.plt(x, y)\n",
    "plt.plt(x, y, x1, y1, x2, y2)  # More than one set per time\n",
    "\n",
    "plt.scatter(x,y)  # Plot a punti\n",
    "\n",
    "# Points with different color\n",
    "plt.plot(x[r2 < 1], y[r2 < 1], '.', markersize=3, c='red') \n",
    "\n",
    "# I can call multiple plot, then I can add the options such as\n",
    "plt.loglog()  # log scale\n",
    "plt.legend()\n",
    "\n",
    "# Add a horizontal line across the Axes\n",
    "plt.axhline(y=0, xmin=0, xmax=1).\n",
    "\n",
    "plt.xlabel('label on x axis')\n",
    "plt.ylabel('label on y axis')\n",
    "plt.xticks(range(min(x), max(x) + 1))\n",
    "\n",
    "# And at the end\n",
    "plt.show() "
   ]
  },
  {
   "cell_type": "markdown",
   "id": "5972cd11-22f7-4b34-a3c5-199c0e2ae745",
   "metadata": {},
   "source": [
    " "
   ]
  },
  {
   "cell_type": "markdown",
   "id": "cfdf7a07-d5af-4f97-97ba-8057ae9a9101",
   "metadata": {},
   "source": [
    "# Interpolation"
   ]
  },
  {
   "cell_type": "code",
   "execution_count": null,
   "id": "3a78cd19-3a56-4f7c-9e43-ad42058f3228",
   "metadata": {},
   "outputs": [],
   "source": [
    "f_interp = scipy.interpolate.interp1d(y, x)"
   ]
  },
  {
   "cell_type": "markdown",
   "id": "7f6126e3-9cb9-41fc-847e-de81a2252743",
   "metadata": {},
   "source": [
    " "
   ]
  },
  {
   "cell_type": "markdown",
   "id": "76cea11c-2dfc-4c13-bcae-95bbbd51e1d9",
   "metadata": {},
   "source": [
    "# Likelihood"
   ]
  },
  {
   "cell_type": "code",
   "execution_count": null,
   "id": "73c0fe64-ff1d-4db3-8714-f1f4a72358f5",
   "metadata": {},
   "outputs": [],
   "source": [
    "#log likelihood when fitting polynomials to data\n",
    "def LogLikelihood(theta, data, model):\n",
    "    x, y, sigma_y = data.T\n",
    "    y_fit = model(x, theta)\n",
    "    return -0.5 * np.sum((y-y_fit)**2 / sigma_y**2 ) "
   ]
  },
  {
   "cell_type": "markdown",
   "id": "3e9a5dbd-6dc7-47a1-9366-0fa154d973d8",
   "metadata": {},
   "source": [
    " "
   ]
  },
  {
   "cell_type": "markdown",
   "id": "bd1ab748-75ab-4535-ab8b-27efdf6e24b6",
   "metadata": {},
   "source": [
    "## Gaussian mixture model"
   ]
  },
  {
   "cell_type": "code",
   "execution_count": null,
   "id": "32f4dbd9-2cf3-452a-889c-1597c932cd78",
   "metadata": {},
   "outputs": [],
   "source": [
    "# Train the model\n",
    "model = GaussianMixture(n_components=n)\n",
    "gm = model.fit(data)\n",
    "samples = gm.sample(n_sample)\n",
    "\n",
    "# Useful attributes\n",
    "AIC = gm.aic(data)\n",
    "\n",
    "logprob = model.score_samples(x_grid)           # find the log_pdf   --> nb: x_grid written in sklearn\n",
    "pdf = np.exp(logprob)                           # pdf\n",
    "\n",
    "responsibilities = model.predict_proba(x_grid)  # which mode is most likely to be responsible for that piece of data\n",
    "pdf_individual = responsibilities * pdf[:, np.newaxis]     # pdf of each mode"
   ]
  },
  {
   "cell_type": "markdown",
   "id": "d63747ff-59a1-4d07-89a8-ecd0a93edeca",
   "metadata": {},
   "source": [
    " "
   ]
  },
  {
   "cell_type": "markdown",
   "id": "e9cb13c5-e37e-48c2-9b11-2f99b61f04c7",
   "metadata": {},
   "source": [
    "### Sklearn data"
   ]
  },
  {
   "cell_type": "markdown",
   "id": "bbd85382-86c3-4a76-8112-03bfcaeb6472",
   "metadata": {},
   "source": [
    "The data need to be of shape (N,1), not (N,)"
   ]
  },
  {
   "cell_type": "code",
   "execution_count": null,
   "id": "300d22cd-0db8-40d7-a8d5-43cb649f2ea4",
   "metadata": {
    "scrolled": true
   },
   "outputs": [],
   "source": [
    "x=np.linspace(0, 5, 6)\n",
    "print(x, x.shape)\n",
    "print(x[np.newaxis,:], x[np.newaxis,:].shape)\n",
    "print(x[:,np.newaxis], x[:,np.newaxis].shape)"
   ]
  },
  {
   "cell_type": "code",
   "execution_count": null,
   "id": "9fb5032b-0287-49e6-9a77-dd00ef7f0e5b",
   "metadata": {},
   "outputs": [],
   "source": [
    "# another option\n",
    "x1 = x.reshape(-1, 1)\n",
    "print(x1)"
   ]
  },
  {
   "cell_type": "markdown",
   "id": "c6235dd7-81d5-45b7-b504-597f3c0da4af",
   "metadata": {},
   "source": [
    " "
   ]
  },
  {
   "cell_type": "markdown",
   "id": "79e15c84-a1d1-414c-acf6-17b0ed5f29f4",
   "metadata": {},
   "source": [
    "**Freedman-Diaconis rule**\n",
    "\n",
    "$$\\Delta_b = \\frac{2(q_{75}-q_{25})}{N^{1/3}} = \\frac{2.7\\sigma_G}{N^{1/3}}.$$  "
   ]
  },
  {
   "cell_type": "code",
   "execution_count": null,
   "id": "7288fb61-802f-4243-a3f1-793ab8b6173c",
   "metadata": {},
   "outputs": [],
   "source": [
    "from astroML import stats as astroMLstats\n",
    "\n",
    "sigmaG2 = astroMLstats.sigmaG(M_irr)\n",
    "\n",
    "binsize = 2.7*sigmaG2/(N**(1/3))\n",
    "\n",
    "binsG = np.append(np.arange(start=M_irr.min(), stop=M_irr.max(), step=binsize) , M_irr.max()) #Complete\n",
    "\n",
    "plt.hist(M_irr, bins=binsG, density=True)\n",
    "plt.show()"
   ]
  },
  {
   "cell_type": "markdown",
   "id": "e2f6cc83-1b63-41f4-8c18-28b5ebf9a3f8",
   "metadata": {},
   "source": [
    "**Plot using a KDE**"
   ]
  },
  {
   "cell_type": "code",
   "execution_count": null,
   "id": "2b9b9420-34ac-4ce6-976f-3a6a29511ded",
   "metadata": {},
   "outputs": [],
   "source": [
    "from sklearn.neighbors import KernelDensity\n",
    "\n",
    "def kde_sklearn(data, bandwidth, kernel):\n",
    "    kde_skl = KernelDensity(bandwidth = bandwidth, kernel=kernel)\n",
    "    kde_skl.fit(data[:, np.newaxis])\n",
    "    log_pdf = kde_skl.score_samples(xgrid[:, np.newaxis])\n",
    "\n",
    "    return np.exp(log_pdf)\n",
    "\n",
    "bandwidth=0.05\n",
    "kernel=\"epanechnikov\" # or \"gauss\"\n",
    "PDFtophat = kde_sklearn(M_irr,bandwidth,kernel) \n",
    "\n",
    "x = np.linspace(min,max,N) \n",
    "\n",
    "plt.plot(x,PDFtophat)\n",
    "plt.show()"
   ]
  },
  {
   "cell_type": "markdown",
   "id": "c4439955-59ed-4178-95f6-3624dbeb01dc",
   "metadata": {},
   "source": [
    "#### Cross validation"
   ]
  },
  {
   "cell_type": "code",
   "execution_count": null,
   "id": "30c073cf-a17b-4d77-a5e6-07aef5463052",
   "metadata": {},
   "outputs": [],
   "source": [
    "from sklearn.model_selection import train_test_split"
   ]
  },
  {
   "cell_type": "markdown",
   "id": "80ef9367-692e-4ed6-84b4-849d297f1605",
   "metadata": {},
   "source": [
    "### Others"
   ]
  },
  {
   "cell_type": "code",
   "execution_count": null,
   "id": "943a8bf7-d80a-4a4c-a8b6-fa965d975ce9",
   "metadata": {},
   "outputs": [],
   "source": [
    "# Barra di avanzamento\n",
    "Mirr = [scipy.integrate.quad(lambda f: integrand(f,xt), 1/2**0.5,1)[0] for xt in tqdm(x)]\n"
   ]
  },
  {
   "cell_type": "markdown",
   "id": "91b14758-6261-4ebc-a971-2aba7097d601",
   "metadata": {},
   "source": [
    "### Integrals"
   ]
  },
  {
   "cell_type": "code",
   "execution_count": null,
   "id": "0e739181-97f1-42ec-adae-6b3d634c6855",
   "metadata": {},
   "outputs": [],
   "source": [
    "def integrand(f,x):\n",
    "    return f(x)\n",
    "\n",
    "Mirr_pdf = [scipy.integrate.quad(lambda f: integrand(f,xt), a,b)[0] for xt in x] #integrating between a and b\n"
   ]
  },
  {
   "cell_type": "code",
   "execution_count": null,
   "id": "02cb33a7-693a-4e1f-8564-0f72440c6ef6",
   "metadata": {},
   "outputs": [],
   "source": []
  }
 ],
 "metadata": {
  "kernelspec": {
   "display_name": "Python 3.12",
   "language": "python",
   "name": "python312"
  },
  "language_info": {
   "codemirror_mode": {
    "name": "ipython",
    "version": 3
   },
   "file_extension": ".py",
   "mimetype": "text/x-python",
   "name": "python",
   "nbconvert_exporter": "python",
   "pygments_lexer": "ipython3",
   "version": "3.12.3"
  }
 },
 "nbformat": 4,
 "nbformat_minor": 5
}
