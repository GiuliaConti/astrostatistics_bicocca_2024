{
 "cells": [
  {
   "cell_type": "code",
   "execution_count": 17,
   "id": "066c9914-c5b9-4d60-9cbd-28c7d136f950",
   "metadata": {},
   "outputs": [],
   "source": [
    "import numpy as np                        # Math\n",
    "import scipy.stats                        # Statistics\n",
    "from matplotlib import pyplot as plt      # Plots"
   ]
  },
  {
   "cell_type": "code",
   "execution_count": 18,
   "id": "9bbfefc1-1af7-49e7-8553-1b358db1109d",
   "metadata": {},
   "outputs": [],
   "source": [
    "sunny = 1\n",
    "cloudy = 0\n",
    "\n",
    "N = 10000\n",
    "\n",
    "current = sunny"
   ]
  },
  {
   "cell_type": "code",
   "execution_count": 19,
   "id": "c07a2d0d-bb43-4ff2-9aad-af587c40e419",
   "metadata": {},
   "outputs": [],
   "source": [
    "def prob_sunny (current_weather):\n",
    "    if (current_weather == sunny):\n",
    "        return 0.9\n",
    "    else:\n",
    "        return 0.5"
   ]
  },
  {
   "cell_type": "code",
   "execution_count": 20,
   "id": "1d777b2e-b222-4eb0-bfef-5159a38cc3ca",
   "metadata": {},
   "outputs": [],
   "source": [
    "def sample (current, N):\n",
    "    proposed = np.zeros(N)\n",
    "    \n",
    "    for i in range(N):\n",
    "        \n",
    "        p = np.random.uniform(0, 1, 1) \n",
    "\n",
    "        if (p < prob_sunny(current)):\n",
    "            proposed = np.append(proposed, sunny)\n",
    "        else:\n",
    "            proposed = np.append(proposed, cloudy)\n",
    "\n",
    "        current = proposed[i]\n",
    "\n",
    "    return proposed"
   ]
  },
  {
   "cell_type": "code",
   "execution_count": 21,
   "id": "415d5c8f-3dff-466d-917c-d5577fe54fff",
   "metadata": {},
   "outputs": [
    {
     "name": "stdout",
     "output_type": "stream",
     "text": [
      "0.4949\n"
     ]
    }
   ],
   "source": [
    "sample(current,N)\n",
    "probability = np.sum(sample(current, N)) / N\n",
    "print(probability)"
   ]
  },
  {
   "cell_type": "code",
   "execution_count": null,
   "id": "843aacf3-3ddc-4055-a6ab-2e72a61967d2",
   "metadata": {},
   "outputs": [],
   "source": [
    "proposal = np.random.choice([0,1])"
   ]
  }
 ],
 "metadata": {
  "kernelspec": {
   "display_name": "Python 3 (ipykernel)",
   "language": "python",
   "name": "python3"
  },
  "language_info": {
   "codemirror_mode": {
    "name": "ipython",
    "version": 3
   },
   "file_extension": ".py",
   "mimetype": "text/x-python",
   "name": "python",
   "nbconvert_exporter": "python",
   "pygments_lexer": "ipython3",
   "version": "3.11.2"
  }
 },
 "nbformat": 4,
 "nbformat_minor": 5
}
