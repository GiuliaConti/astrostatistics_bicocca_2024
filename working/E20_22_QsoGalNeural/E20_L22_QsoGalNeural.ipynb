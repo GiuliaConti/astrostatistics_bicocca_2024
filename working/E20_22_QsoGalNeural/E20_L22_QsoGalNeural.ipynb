{
 "cells": [
  {
   "cell_type": "markdown",
   "id": "4e2aa3da-5941-4eb4-b85b-6a874f411813",
   "metadata": {},
   "source": [
    "# Galaxies vs quasars with neural networks"
   ]
  },
  {
   "cell_type": "code",
   "execution_count": 1,
   "id": "b7b109a4-1f8a-4d0a-af36-114685a2b81b",
   "metadata": {},
   "outputs": [],
   "source": [
    "import numpy as np\n",
    "import pylab as plt\n",
    "import scipy.stats\n",
    "import pandas as pd\n",
    "import seaborn as sns\n",
    "import os\n",
    "\n",
    "from sklearn import preprocessing\n",
    "from astroML.utils import split_samples\n",
    "from sklearn.ensemble import RandomForestClassifier\n",
    "\n",
    "import tensorflow as tf\n",
    "from tensorflow import keras\n",
    "import keras_tuner\n",
    "from sklearn import preprocessing\n",
    "from sklearn.metrics import roc_curve, auc\n",
    "\n",
    "plt.style.use('seaborn-v0_8-deep')\n",
    "plt.rc('text', usetex=True)  \n",
    "%matplotlib inline\n",
    "%config InlineBackend.figure_format='retina'"
   ]
  },
  {
   "cell_type": "code",
   "execution_count": 2,
   "id": "8ec84960-d500-4f5e-8bd6-7edae1207c6b",
   "metadata": {},
   "outputs": [],
   "source": [
    "np.random.seed(42)"
   ]
  },
  {
   "cell_type": "code",
   "execution_count": 3,
   "id": "a4cee57f-3537-4cd7-b090-d4f0fd9a2b38",
   "metadata": {},
   "outputs": [
    {
     "data": {
      "text/html": [
       "<div>\n",
       "<style scoped>\n",
       "    .dataframe tbody tr th:only-of-type {\n",
       "        vertical-align: middle;\n",
       "    }\n",
       "\n",
       "    .dataframe tbody tr th {\n",
       "        vertical-align: top;\n",
       "    }\n",
       "\n",
       "    .dataframe thead th {\n",
       "        text-align: right;\n",
       "    }\n",
       "</style>\n",
       "<table border=\"1\" class=\"dataframe\">\n",
       "  <thead>\n",
       "    <tr style=\"text-align: right;\">\n",
       "      <th></th>\n",
       "      <th>u</th>\n",
       "      <th>g</th>\n",
       "      <th>r</th>\n",
       "      <th>i</th>\n",
       "      <th>z</th>\n",
       "      <th>class</th>\n",
       "      <th>z1</th>\n",
       "      <th>zerr</th>\n",
       "    </tr>\n",
       "  </thead>\n",
       "  <tbody>\n",
       "    <tr>\n",
       "      <th>0</th>\n",
       "      <td>18.97213</td>\n",
       "      <td>18.53676</td>\n",
       "      <td>18.58280</td>\n",
       "      <td>18.34936</td>\n",
       "      <td>18.29215</td>\n",
       "      <td>QSO</td>\n",
       "      <td>0.522819</td>\n",
       "      <td>0.000155</td>\n",
       "    </tr>\n",
       "    <tr>\n",
       "      <th>1</th>\n",
       "      <td>19.24592</td>\n",
       "      <td>17.47646</td>\n",
       "      <td>16.47817</td>\n",
       "      <td>16.04472</td>\n",
       "      <td>15.68851</td>\n",
       "      <td>GALAXY</td>\n",
       "      <td>0.122846</td>\n",
       "      <td>0.000028</td>\n",
       "    </tr>\n",
       "    <tr>\n",
       "      <th>2</th>\n",
       "      <td>19.43536</td>\n",
       "      <td>17.70268</td>\n",
       "      <td>16.91565</td>\n",
       "      <td>16.58327</td>\n",
       "      <td>16.39128</td>\n",
       "      <td>GALAXY</td>\n",
       "      <td>0.000000</td>\n",
       "      <td>0.000000</td>\n",
       "    </tr>\n",
       "    <tr>\n",
       "      <th>3</th>\n",
       "      <td>19.31626</td>\n",
       "      <td>18.18312</td>\n",
       "      <td>17.39591</td>\n",
       "      <td>16.94549</td>\n",
       "      <td>16.65395</td>\n",
       "      <td>GALAXY</td>\n",
       "      <td>0.147435</td>\n",
       "      <td>0.000009</td>\n",
       "    </tr>\n",
       "    <tr>\n",
       "      <th>4</th>\n",
       "      <td>19.28828</td>\n",
       "      <td>19.11188</td>\n",
       "      <td>18.88937</td>\n",
       "      <td>18.80013</td>\n",
       "      <td>18.49183</td>\n",
       "      <td>QSO</td>\n",
       "      <td>2.011455</td>\n",
       "      <td>0.000631</td>\n",
       "    </tr>\n",
       "    <tr>\n",
       "      <th>...</th>\n",
       "      <td>...</td>\n",
       "      <td>...</td>\n",
       "      <td>...</td>\n",
       "      <td>...</td>\n",
       "      <td>...</td>\n",
       "      <td>...</td>\n",
       "      <td>...</td>\n",
       "      <td>...</td>\n",
       "    </tr>\n",
       "    <tr>\n",
       "      <th>49995</th>\n",
       "      <td>19.37295</td>\n",
       "      <td>18.12382</td>\n",
       "      <td>17.39886</td>\n",
       "      <td>16.98503</td>\n",
       "      <td>16.70585</td>\n",
       "      <td>GALAXY</td>\n",
       "      <td>0.113016</td>\n",
       "      <td>0.000011</td>\n",
       "    </tr>\n",
       "    <tr>\n",
       "      <th>49996</th>\n",
       "      <td>18.52021</td>\n",
       "      <td>16.88262</td>\n",
       "      <td>16.03280</td>\n",
       "      <td>15.56884</td>\n",
       "      <td>15.22454</td>\n",
       "      <td>GALAXY</td>\n",
       "      <td>0.085063</td>\n",
       "      <td>0.000014</td>\n",
       "    </tr>\n",
       "    <tr>\n",
       "      <th>49997</th>\n",
       "      <td>18.62718</td>\n",
       "      <td>17.30876</td>\n",
       "      <td>16.87371</td>\n",
       "      <td>16.62399</td>\n",
       "      <td>16.42296</td>\n",
       "      <td>GALAXY</td>\n",
       "      <td>0.054429</td>\n",
       "      <td>0.000008</td>\n",
       "    </tr>\n",
       "    <tr>\n",
       "      <th>49998</th>\n",
       "      <td>19.55140</td>\n",
       "      <td>18.27711</td>\n",
       "      <td>17.62101</td>\n",
       "      <td>17.21947</td>\n",
       "      <td>17.03347</td>\n",
       "      <td>GALAXY</td>\n",
       "      <td>0.112571</td>\n",
       "      <td>0.000009</td>\n",
       "    </tr>\n",
       "    <tr>\n",
       "      <th>49999</th>\n",
       "      <td>18.80772</td>\n",
       "      <td>17.75751</td>\n",
       "      <td>17.40500</td>\n",
       "      <td>17.21650</td>\n",
       "      <td>17.12295</td>\n",
       "      <td>GALAXY</td>\n",
       "      <td>0.043652</td>\n",
       "      <td>0.000007</td>\n",
       "    </tr>\n",
       "  </tbody>\n",
       "</table>\n",
       "<p>50000 rows × 8 columns</p>\n",
       "</div>"
      ],
      "text/plain": [
       "              u         g         r         i         z   class        z1  \\\n",
       "0      18.97213  18.53676  18.58280  18.34936  18.29215     QSO  0.522819   \n",
       "1      19.24592  17.47646  16.47817  16.04472  15.68851  GALAXY  0.122846   \n",
       "2      19.43536  17.70268  16.91565  16.58327  16.39128  GALAXY  0.000000   \n",
       "3      19.31626  18.18312  17.39591  16.94549  16.65395  GALAXY  0.147435   \n",
       "4      19.28828  19.11188  18.88937  18.80013  18.49183     QSO  2.011455   \n",
       "...         ...       ...       ...       ...       ...     ...       ...   \n",
       "49995  19.37295  18.12382  17.39886  16.98503  16.70585  GALAXY  0.113016   \n",
       "49996  18.52021  16.88262  16.03280  15.56884  15.22454  GALAXY  0.085063   \n",
       "49997  18.62718  17.30876  16.87371  16.62399  16.42296  GALAXY  0.054429   \n",
       "49998  19.55140  18.27711  17.62101  17.21947  17.03347  GALAXY  0.112571   \n",
       "49999  18.80772  17.75751  17.40500  17.21650  17.12295  GALAXY  0.043652   \n",
       "\n",
       "           zerr  \n",
       "0      0.000155  \n",
       "1      0.000028  \n",
       "2      0.000000  \n",
       "3      0.000009  \n",
       "4      0.000631  \n",
       "...         ...  \n",
       "49995  0.000011  \n",
       "49996  0.000014  \n",
       "49997  0.000008  \n",
       "49998  0.000009  \n",
       "49999  0.000007  \n",
       "\n",
       "[50000 rows x 8 columns]"
      ]
     },
     "execution_count": 3,
     "metadata": {},
     "output_type": "execute_result"
    }
   ],
   "source": [
    "input_file_path = '/Users/giulia/coding/astrostat/astrostatistics_bicocca_2024/solutions/galaxyquasar.csv'\n",
    "\n",
    "data = pd.read_csv(input_file_path)\n",
    "data"
   ]
  },
  {
   "cell_type": "code",
   "execution_count": 4,
   "id": "a574140e-1174-460d-849e-1e6a9b6fabf5",
   "metadata": {},
   "outputs": [],
   "source": [
    "u_g = data['u'] - data['g']\n",
    "g_r = data['g'] - data['r']\n",
    "r_i = data['r'] - data['i']\n",
    "i_z = data['i'] - data['z']\n",
    "\n",
    "X0 = np.array([u_g,g_r,r_i,i_z]).T"
   ]
  },
  {
   "cell_type": "code",
   "execution_count": 5,
   "id": "c569898e-0d20-44aa-83b1-7d6a05b5885f",
   "metadata": {},
   "outputs": [],
   "source": [
    "class_to_number = {\"GALAXY\": 0, \"QSO\": 1}  # mapping\n",
    "labels = np.array([class_to_number[cl] for cl in data['class']]) # convert the string array to an array of 0/1\n",
    "\n",
    "y=labels"
   ]
  },
  {
   "cell_type": "markdown",
   "id": "5c037e56-2fb9-4002-b059-0f47e4bbfb76",
   "metadata": {},
   "source": [
    "Scale the data"
   ]
  },
  {
   "cell_type": "code",
   "execution_count": 6,
   "id": "011a87de-9d6b-4c04-a79a-c8d876753ddb",
   "metadata": {},
   "outputs": [],
   "source": [
    "X = preprocessing.scale(X0)"
   ]
  },
  {
   "cell_type": "markdown",
   "id": "a5b532f5-db9e-43f3-bb33-3cffdf135e0b",
   "metadata": {},
   "source": [
    "Divide in train and test set"
   ]
  },
  {
   "cell_type": "code",
   "execution_count": 7,
   "id": "6a4e238b-7ad9-4b2c-9eb8-553173b0020c",
   "metadata": {},
   "outputs": [],
   "source": [
    "(X_train, X_test), (y_train, y_test) = split_samples(X, y, [0.75, 0.25], random_state=0)"
   ]
  },
  {
   "cell_type": "markdown",
   "id": "c5d3e906-2f7c-4dd5-87bc-4c60de6b9c72",
   "metadata": {},
   "source": [
    "### Build the neural network"
   ]
  },
  {
   "cell_type": "code",
   "execution_count": 8,
   "id": "7131b653-8bfd-4dbf-af18-b7906aac1ab3",
   "metadata": {},
   "outputs": [],
   "source": [
    "def trainnetwork(X_train, X_test, y_train, y_test, filename='trained_model.keras'):\n",
    "    history = None\n",
    "    \n",
    "    if not os.path.isfile(filename):\n",
    "        \n",
    "        train_in = X_train\n",
    "        train_out = y_train\n",
    "        test_in = X_test\n",
    "        test_out = y_test\n",
    "        \n",
    "        # Kernel initializer\n",
    "        my_init = keras.initializers.glorot_uniform(seed=1)\n",
    "\n",
    "        # Architecture\n",
    "        model = keras.Sequential([\n",
    "            \n",
    "            # Input layer\n",
    "            tf.keras.layers.InputLayer(shape=np.shape(train_in[0])),\n",
    "            \n",
    "            # Hidden layer with ReLU activation\n",
    "            keras.layers.Dense(5, activation='relu', kernel_initializer=my_init),\n",
    "            \n",
    "            # Output layer\n",
    "            keras.layers.Dense(1, activation='sigmoid', kernel_initializer=my_init)\n",
    "        ])\n",
    "\n",
    "        \n",
    "        # Compile the model\n",
    "        model.compile(\n",
    "            optimizer=keras.optimizers.Adam(learning_rate=1e-3),  # Adam solver with learning rate 0.001\n",
    "            loss='binary_crossentropy',  # Loss for binary classification\n",
    "            metrics=['accuracy']  # Track accuracy\n",
    "        )\n",
    "\n",
    "        # Decrease the learning rate exponentially after the first 10 epochs\n",
    "        def scheduler(epoch, lr):\n",
    "            if epoch < 10:\n",
    "                return float(lr)\n",
    "            else:\n",
    "                return float(lr * tf.math.exp(-0.05))\n",
    "\n",
    "        # Training\n",
    "        history = model.fit(\n",
    "            train_in, \n",
    "            train_out,\n",
    "            validation_data=(test_in, test_out),\n",
    "            epochs=150,\n",
    "            callbacks=[\n",
    "                \n",
    "                # Adjust learning rate\n",
    "                tf.keras.callbacks.LearningRateScheduler(scheduler),\n",
    "                \n",
    "                # Save the best model\n",
    "                tf.keras.callbacks.ModelCheckpoint(\n",
    "                    filepath=filename,\n",
    "                    save_weights_only=False,\n",
    "                    monitor='val_accuracy',\n",
    "                    mode='max',\n",
    "                    save_best_only=True\n",
    "                ),\n",
    "                tf.keras.callbacks.TensorBoard(log_dir=\"logs\" + filename.split('.h5')[0], histogram_freq=1)\n",
    "            ],\n",
    "            shuffle=True,\n",
    "            verbose=0  #shorter output\n",
    "        )\n",
    "\n",
    "    # Load the trained model\n",
    "    model = loadnetwork(filename)\n",
    "    return model\n",
    "\n",
    "\n",
    "def loadnetwork(filename, verbose=False):\n",
    "    #Load the trained neural network\n",
    "    model = tf.keras.models.load_model(filename)\n",
    "    if verbose:\n",
    "        model.summary()\n",
    "    return model\n",
    "\n",
    "\n",
    "def testnetwork(model, X_test, y_test):\n",
    "    model.evaluate(X_test, y_test, verbose=2)\n",
    "\n",
    "\n",
    "def predictnetwork(model, X_test):\n",
    "    predictions = np.squeeze((model.predict(X_test) > 0.5).astype(\"int32\"))\n",
    "    return predictions\n",
    "\n",
    "\n",
    "def plot_roc_curve(model, X_test, y_test):\n",
    "    y_pred_prob = model.predict(X_test).ravel()\n",
    "    \n",
    "    fpr, tpr, thresholds = roc_curve(y_test, y_pred_prob)\n",
    "    roc_auc = auc(fpr, tpr)\n",
    "\n",
    "    # Plot\n",
    "    plt.plot(fpr, tpr)\n",
    "    plt.xlabel(\"False Positive Rate\")\n",
    "    plt.ylabel(\"True Positive Rate\")\n",
    "    plt.title(\"ROC curve\")\n",
    "    plt.xlim(0,0.1)\n",
    "    plt.ylim(0.9,1)\n",
    "    plt.show()\n"
   ]
  },
  {
   "cell_type": "markdown",
   "id": "5a63b573-0be7-472b-b88c-7acb1871a18b",
   "metadata": {},
   "source": [
    "### Train and test the neural network"
   ]
  },
  {
   "cell_type": "code",
   "execution_count": 9,
   "id": "44626bb7-ce7a-426b-a13a-96adb8644646",
   "metadata": {},
   "outputs": [],
   "source": [
    "model = trainnetwork(X_train, X_test, y_train, y_test)"
   ]
  },
  {
   "cell_type": "code",
   "execution_count": 10,
   "id": "002bb06c-6cfd-4a15-96fc-ff85db0d7d2b",
   "metadata": {},
   "outputs": [
    {
     "name": "stdout",
     "output_type": "stream",
     "text": [
      "391/391 - 0s - 652us/step - accuracy: 0.9832 - loss: 0.0687\n"
     ]
    }
   ],
   "source": [
    "testnetwork(model, X_test, y_test)"
   ]
  },
  {
   "cell_type": "code",
   "execution_count": 11,
   "id": "11f4ae2b-d59c-46ba-b14c-c949a31a4638",
   "metadata": {},
   "outputs": [
    {
     "name": "stdout",
     "output_type": "stream",
     "text": [
      "\u001b[1m391/391\u001b[0m \u001b[32m━━━━━━━━━━━━━━━━━━━━\u001b[0m\u001b[37m\u001b[0m \u001b[1m0s\u001b[0m 222us/step\n"
     ]
    }
   ],
   "source": [
    "predictions = predictnetwork(model, X_test)"
   ]
  },
  {
   "cell_type": "code",
   "execution_count": 12,
   "id": "4430be8d-48a2-483c-97b5-79addd6a4741",
   "metadata": {},
   "outputs": [
    {
     "name": "stdout",
     "output_type": "stream",
     "text": [
      "\u001b[1m391/391\u001b[0m \u001b[32m━━━━━━━━━━━━━━━━━━━━\u001b[0m\u001b[37m\u001b[0m \u001b[1m0s\u001b[0m 197us/step\n"
     ]
    },
    {
     "data": {
      "image/png": "[encoded data removed]",
      "text/plain": [
       "<Figure size 640x480 with 1 Axes>"
      ]
     },
     "metadata": {
      "image/png": {
       "height": 449,
       "width": 580
      }
     },
     "output_type": "display_data"
    }
   ],
   "source": [
    "plot_roc_curve(model, X_test, y_test)"
   ]
  },
  {
   "cell_type": "markdown",
   "id": "4ce5e83b-91c1-4cd9-a4c1-627e99dc5819",
   "metadata": {},
   "source": [
    "### Optimize the hyperparameters"
   ]
  },
  {
   "cell_type": "code",
   "execution_count": 13,
   "id": "71b9303b-3aad-46d7-8b35-503573dbfcac",
   "metadata": {},
   "outputs": [
    {
     "name": "stdout",
     "output_type": "stream",
     "text": [
      "Trial 30 Complete [00h 00m 06s]\n",
      "val_accuracy: 0.9858666658401489\n",
      "\n",
      "Best val_accuracy So Far: 0.9874666929244995\n",
      "Total elapsed time: 00h 01m 25s\n",
      "\n",
      "\n",
      "\n",
      "The hyperparameter search is complete. \n",
      "\n",
      "Optimal parameters:\n",
      "- Number of layers is: 3\n",
      "\n",
      "\n",
      "- Number of neurons in the FIRST layer is: 20\n",
      "- Number of neurons in the FIRST layer is: 20\n",
      "- Number of neurons in the FIRST layer is: 15\n",
      "\n",
      "\n",
      "- Learning rate for the optimizer is: 0.01.\n",
      "\n"
     ]
    }
   ],
   "source": [
    "def build_model(hp):\n",
    "    model = keras.Sequential()\n",
    "\n",
    "    num_layers = hp.Int('num_layers', min_value=1, max_value=3, step=1)  # Number of hidden layers\n",
    "    \n",
    "    for i in range(num_layers):\n",
    "        units = hp.Choice(f'units_{i}', [5, 10, 15, 20, 25])\n",
    "        activation = 'relu'\n",
    "        model.add(keras.layers.Dense(units, activation=activation))\n",
    "    \n",
    "    model.add(keras.layers.Dense(1, activation='sigmoid'))\n",
    "\n",
    "    hp_learning_rate = hp.Choice('learning_rate', values=[1e-1, 1e-2, 1e-3, 1e-4])\n",
    "    \n",
    "    model.compile(\n",
    "            optimizer=keras.optimizers.Adam(learning_rate=hp_learning_rate),  # Adam solver with given learning rate\n",
    "            loss='binary_crossentropy',  # Loss for binary classification\n",
    "            metrics=['accuracy']  # Track accuracy\n",
    "    )\n",
    "    \n",
    "    return model\n",
    "\n",
    "\n",
    "# Tuner configuration\n",
    "tuner = keras_tuner.Hyperband(\n",
    "    build_model,\n",
    "    objective='val_accuracy',\n",
    "    max_epochs=10,\n",
    "    factor=3,\n",
    "    directory=\"/tmp/tb\",\n",
    "    overwrite=True,\n",
    ")\n",
    "                     \n",
    "\n",
    "tuner.search(\n",
    "    X_train,\n",
    "    y_train,\n",
    "    validation_split=0.2,\n",
    "    epochs=50,\n",
    "    # Use the TensorBoard callback.\n",
    "    # The logs will be write to \"/tmp/tb_logs\".\n",
    "    callbacks=[keras.callbacks.TensorBoard(\"/tmp/tb_logs\")],\n",
    ")\n",
    "\n",
    "\n",
    "\n",
    "best_hps=tuner.get_best_hyperparameters(num_trials=1)[0]\n",
    "\n",
    "print(f\"\"\"\n",
    "\n",
    "\n",
    "The hyperparameter search is complete. \n",
    "\n",
    "Optimal parameters:\n",
    "- Number of layers is: {best_hps.get('num_layers')}\n",
    "\n",
    "\"\"\")\n",
    "\n",
    "for i in range(best_hps.get('num_layers')):\n",
    "    neurons_in_i = best_hps.get(f'units_{i}')\n",
    "    print(f'- Number of neurons in the FIRST layer is: {neurons_in_i}')\n",
    "#- Number of neurons in the SECOND layer is: {best_hps.get('units_1')} \n",
    "#- Number of neurons in the THIRD layer is: {best_hps.get('units_2')} \n",
    "\n",
    "print(f\"\"\"\n",
    "\n",
    "- Learning rate for the optimizer is: {best_hps.get('learning_rate')}.\n",
    "\"\"\")"
   ]
  },
  {
   "cell_type": "markdown",
   "id": "5c373dab-b839-4c5c-a434-074976070faa",
   "metadata": {},
   "source": [
    " "
   ]
  },
  {
   "cell_type": "markdown",
   "id": "476e850c-3130-4595-89a8-b7099e1a0f22",
   "metadata": {},
   "source": [
    "NB: Keras Tuner provides four available tuners: RandomSearch, Hyperband, BayesianOptimization, and Sklearn.\n",
    "\n",
    "Here I used Hyperband, which is particularly efficient because it progressively eliminates underperforming configurations. It ensures that computational resources are concentrated on hyperparameter combinations with the most potential, reducing the overall training cost."
   ]
  },
  {
   "cell_type": "markdown",
   "id": "557cd41b-e2f9-4f08-86f6-a49441529c9f",
   "metadata": {},
   "source": [
    " "
   ]
  },
  {
   "cell_type": "markdown",
   "id": "3a2aede3-97bc-4c52-b964-cc94c91d607b",
   "metadata": {},
   "source": [
    "### Build my NN with optimized hyperparameters"
   ]
  },
  {
   "cell_type": "code",
   "execution_count": 14,
   "id": "f61db4ac-8681-469f-a55c-4fa95ac6bf32",
   "metadata": {},
   "outputs": [],
   "source": [
    "def trainnetwork(X_train, X_test, y_train, y_test, filename='trained_optimized_model.keras'):\n",
    "    history = None\n",
    "    \n",
    "    if not os.path.isfile(filename):\n",
    "        \n",
    "        train_in = X_train\n",
    "        train_out = y_train\n",
    "        test_in = X_test\n",
    "        test_out = y_test\n",
    "        \n",
    "        # Kernel initializer\n",
    "        my_init = keras.initializers.glorot_uniform(seed=1)\n",
    "        \n",
    "        # Architecture\n",
    "        model = keras.Sequential([\n",
    "            # Input layer\n",
    "            tf.keras.layers.InputLayer(shape=np.shape(train_in[0])),\n",
    "            ])\n",
    "            \n",
    "        # Hidden layers with ReLU activation\n",
    "        for i in range(best_hps.get('num_layers')):\n",
    "            units = best_hps.get(f'units_{i}')\n",
    "            activation = 'relu'\n",
    "            model.add(keras.layers.Dense(units, activation=activation))\n",
    "    \n",
    "        # Output layer\n",
    "        model.add(keras.layers.Dense(1, activation='sigmoid'))\n",
    "        \n",
    "        # Compile the model\n",
    "        model.compile(\n",
    "            optimizer=keras.optimizers.Adam(learning_rate=best_hps.get('learning_rate')),  # Adam solver with optimized learning rate\n",
    "            loss='binary_crossentropy',  # Loss for binary classification\n",
    "            metrics=['accuracy']  # Track accuracy\n",
    "        )\n",
    "\n",
    "        # Decrease the learning rate exponentially after the first 10 epochs\n",
    "        def scheduler(epoch, lr):\n",
    "            if epoch < 10:\n",
    "                return float(lr)\n",
    "            else:\n",
    "                return float(lr * tf.math.exp(-0.05))\n",
    "\n",
    "        # Training\n",
    "        history = model.fit(\n",
    "            train_in, \n",
    "            train_out,\n",
    "            validation_data=(test_in, test_out),\n",
    "            epochs=250,\n",
    "            callbacks=[\n",
    "                \n",
    "                # Adjust learning rate\n",
    "                tf.keras.callbacks.LearningRateScheduler(scheduler),\n",
    "                \n",
    "                # Save the best model\n",
    "                tf.keras.callbacks.ModelCheckpoint(\n",
    "                    filepath=filename,\n",
    "                    save_weights_only=False,\n",
    "                    monitor='val_accuracy',\n",
    "                    mode='max',\n",
    "                    save_best_only=True\n",
    "                ),\n",
    "                tf.keras.callbacks.TensorBoard(log_dir=\"logs\" + filename.split('.h5')[0], histogram_freq=1)\n",
    "            ],\n",
    "            shuffle=True,\n",
    "            verbose=0  #shorter output\n",
    "        )\n",
    "\n",
    "    # Load the trained model\n",
    "    model = loadnetwork(filename)\n",
    "    return model\n",
    "\n",
    "\n",
    "def loadnetwork(filename, verbose=False):\n",
    "    #Load the trained neural network.\n",
    "    model = tf.keras.models.load_model(filename)\n",
    "    if verbose:\n",
    "        model.summary()\n",
    "    return model\n",
    "\n",
    "\n",
    "def testnetwork(model, X_test, y_test):\n",
    "    model.evaluate(X_test, y_test, verbose=2)\n",
    "\n",
    "\n",
    "def predictnetwork(model, X_test):\n",
    "    predictions = np.squeeze((model.predict(X_test) > 0.5).astype(\"int32\"))\n",
    "    return predictions\n",
    "\n",
    "\n",
    "def plot_roc_curve(model, X_test, y_test):\n",
    "    y_pred_prob = model.predict(X_test).ravel()\n",
    "    \n",
    "    fpr, tpr, thresholds = roc_curve(y_test, y_pred_prob)\n",
    "    roc_auc = auc(fpr, tpr)\n",
    "\n",
    "    # Plot\n",
    "    plt.plot(fpr, tpr)\n",
    "    plt.xlabel(\"False Positive Rate\")\n",
    "    plt.ylabel(\"True Positive Rate\")\n",
    "    plt.title(\"ROC curve\")\n",
    "    plt.xlim(0,0.1)\n",
    "    plt.ylim(0.9,1)\n",
    "    plt.show()\n"
   ]
  },
  {
   "cell_type": "code",
   "execution_count": 15,
   "id": "bb2db6d0-d7ed-4ad2-b657-5771adfdfcff",
   "metadata": {},
   "outputs": [],
   "source": [
    "model = trainnetwork(X_train, X_test, y_train, y_test)"
   ]
  },
  {
   "cell_type": "code",
   "execution_count": 16,
   "id": "8cecf0c2-1ded-40fb-9301-e48618dc2733",
   "metadata": {},
   "outputs": [
    {
     "name": "stdout",
     "output_type": "stream",
     "text": [
      "391/391 - 0s - 519us/step - accuracy: 0.9871 - loss: 0.0491\n"
     ]
    }
   ],
   "source": [
    "result = testnetwork(model, X_test, y_test)"
   ]
  },
  {
   "cell_type": "code",
   "execution_count": 17,
   "id": "da680c28-bec9-4351-8c6c-4272e41a5aa7",
   "metadata": {},
   "outputs": [
    {
     "name": "stdout",
     "output_type": "stream",
     "text": [
      "\u001b[1m391/391\u001b[0m \u001b[32m━━━━━━━━━━━━━━━━━━━━\u001b[0m\u001b[37m\u001b[0m \u001b[1m0s\u001b[0m 233us/step\n"
     ]
    }
   ],
   "source": [
    "predictions = predictnetwork(model, X_test)"
   ]
  },
  {
   "cell_type": "code",
   "execution_count": 18,
   "id": "7dae8732-0d39-4c69-9e6a-402e58f63a2f",
   "metadata": {},
   "outputs": [
    {
     "name": "stdout",
     "output_type": "stream",
     "text": [
      "\u001b[1m391/391\u001b[0m \u001b[32m━━━━━━━━━━━━━━━━━━━━\u001b[0m\u001b[37m\u001b[0m \u001b[1m0s\u001b[0m 205us/step\n"
     ]
    },
    {
     "data": {
      "image/png": "[encoded data removed]",
      "text/plain": [
       "<Figure size 640x480 with 1 Axes>"
      ]
     },
     "metadata": {
      "image/png": {
       "height": 449,
       "width": 580
      }
     },
     "output_type": "display_data"
    }
   ],
   "source": [
    "plot_roc_curve(model, X_test, y_test)"
   ]
  },
  {
   "cell_type": "markdown",
   "id": "5702e419-76c7-452c-8c95-55db1fc2a7e8",
   "metadata": {},
   "source": [
    "# RandomForestClassifier"
   ]
  },
  {
   "cell_type": "code",
   "execution_count": 20,
   "id": "92b59f1a-589e-4ff2-aecc-fb6418f5c349",
   "metadata": {},
   "outputs": [
    {
     "name": "stdout",
     "output_type": "stream",
     "text": [
      "RandomForest Test Accuracy: 0.9867\n"
     ]
    }
   ],
   "source": [
    "rf = RandomForestClassifier(random_state=42, n_estimators=100)\n",
    "\n",
    "rf.fit(X_train, y_train)\n",
    "\n",
    "rf_train_accuracy = rf.score(X_train, y_train)\n",
    "rf_test_accuracy = rf.score(X_test, y_test)\n",
    "\n",
    "print(f\"RandomForest Test Accuracy: {rf_test_accuracy:.4f}\")"
   ]
  },
  {
   "cell_type": "markdown",
   "id": "007f43d2-af3f-40fb-b306-fb935483b1df",
   "metadata": {},
   "source": [
    "The value of accuracy is comparable with the one of the neural network. I don't need a NN to solve this problem."
   ]
  },
  {
   "cell_type": "code",
   "execution_count": null,
   "id": "25bbc453-d9f0-4e70-a3aa-f9a9145dab18",
   "metadata": {},
   "outputs": [],
   "source": []
  }
 ],
 "metadata": {
  "kernelspec": {
   "display_name": "Python 3.12",
   "language": "python",
   "name": "python312"
  },
  "language_info": {
   "codemirror_mode": {
    "name": "ipython",
    "version": 3
   },
   "file_extension": ".py",
   "mimetype": "text/x-python",
   "name": "python",
   "nbconvert_exporter": "python",
   "pygments_lexer": "ipython3",
   "version": "3.12.3"
  }
 },
 "nbformat": 4,
 "nbformat_minor": 5
}
