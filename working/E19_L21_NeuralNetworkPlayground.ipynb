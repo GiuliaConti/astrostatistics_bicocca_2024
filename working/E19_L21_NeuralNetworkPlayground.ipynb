{
 "cells": [
  {
   "cell_type": "markdown",
   "id": "d32c75f2-b826-4599-83ad-1dcfeedc167e",
   "metadata": {},
   "source": [
    "![Exercise1](NeuralNet_1.png)\n",
    "\n"
   ]
  },
  {
   "cell_type": "code",
   "execution_count": null,
   "id": "56db89fa-7f5c-4864-b705-0db53c1a08be",
   "metadata": {},
   "outputs": [],
   "source": []
  }
 ],
 "metadata": {
  "kernelspec": {
   "display_name": "Python 3.12",
   "language": "python",
   "name": "python312"
  },
  "language_info": {
   "codemirror_mode": {
    "name": "ipython",
    "version": 3
   },
   "file_extension": ".py",
   "mimetype": "text/x-python",
   "name": "python",
   "nbconvert_exporter": "python",
   "pygments_lexer": "ipython3",
   "version": "3.12.3"
  }
 },
 "nbformat": 4,
 "nbformat_minor": 5
}
