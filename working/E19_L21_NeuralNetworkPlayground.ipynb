{
 "cells": [
  {
   "cell_type": "markdown",
   "id": "b9d2d0db-53a5-4de8-a655-9cce4083ea3f",
   "metadata": {},
   "source": [
    "### First dataset"
   ]
  },
  {
   "cell_type": "markdown",
   "id": "d32c75f2-b826-4599-83ad-1dcfeedc167e",
   "metadata": {},
   "source": [
    "![Exercise1](NeuralNet_1.png)\n",
    "\n"
   ]
  },
  {
   "cell_type": "markdown",
   "id": "ec4a7d61-a0b8-4a67-82a7-a45223b9a2e4",
   "metadata": {},
   "source": [
    "### Second dataset"
   ]
  },
  {
   "cell_type": "markdown",
   "id": "5e0c50e3-9f46-4026-ba3d-6c802fa9aba0",
   "metadata": {},
   "source": [
    "![Exercise2](NeuralNet_2.png)"
   ]
  },
  {
   "cell_type": "code",
   "execution_count": null,
   "id": "3663bf20-01cc-4cc5-a639-da3720f4e6ab",
   "metadata": {},
   "outputs": [],
   "source": []
  }
 ],
 "metadata": {
  "kernelspec": {
   "display_name": "Python 3.12",
   "language": "python",
   "name": "python312"
  },
  "language_info": {
   "codemirror_mode": {
    "name": "ipython",
    "version": 3
   },
   "file_extension": ".py",
   "mimetype": "text/x-python",
   "name": "python",
   "nbconvert_exporter": "python",
   "pygments_lexer": "ipython3",
   "version": "3.12.3"
  }
 },
 "nbformat": 4,
 "nbformat_minor": 5
}
