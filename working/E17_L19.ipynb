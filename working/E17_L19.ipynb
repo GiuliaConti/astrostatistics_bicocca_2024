{
 "cells": [
  {
   "cell_type": "code",
   "execution_count": 1,
   "id": "08c9efa9-820e-4b49-8a09-5ff9b584d4da",
   "metadata": {},
   "outputs": [],
   "source": [
    "import numpy as np                        # Math\n",
    "import scipy.stats                        # Statistics\n",
    "from matplotlib import pyplot as plt      # Plots"
   ]
  },
  {
   "cell_type": "code",
   "execution_count": 2,
   "id": "e6bbb52b-d770-4368-a885-711eeb6b41cc",
   "metadata": {},
   "outputs": [],
   "source": [
    "input_file_path = '/Users/giulia/coding/astrostat/astrostatistics_bicocca_2024/solutions/galaxyquasar.csv'\n",
    "input_file = open(input_file_path)\n",
    "#data = input_file.read()\n",
    "#input_file.close()"
   ]
  },
  {
   "cell_type": "code",
   "execution_count": 3,
   "id": "6046e9c6-099d-4540-82c7-c8fd5b681297",
   "metadata": {},
   "outputs": [
    {
     "data": {
      "text/html": [
       "<div>\n",
       "<style scoped>\n",
       "    .dataframe tbody tr th:only-of-type {\n",
       "        vertical-align: middle;\n",
       "    }\n",
       "\n",
       "    .dataframe tbody tr th {\n",
       "        vertical-align: top;\n",
       "    }\n",
       "\n",
       "    .dataframe thead th {\n",
       "        text-align: right;\n",
       "    }\n",
       "</style>\n",
       "<table border=\"1\" class=\"dataframe\">\n",
       "  <thead>\n",
       "    <tr style=\"text-align: right;\">\n",
       "      <th></th>\n",
       "      <th>u</th>\n",
       "      <th>g</th>\n",
       "      <th>r</th>\n",
       "      <th>i</th>\n",
       "      <th>z</th>\n",
       "      <th>class</th>\n",
       "      <th>z1</th>\n",
       "      <th>zerr</th>\n",
       "    </tr>\n",
       "  </thead>\n",
       "  <tbody>\n",
       "    <tr>\n",
       "      <th>0</th>\n",
       "      <td>18.97213</td>\n",
       "      <td>18.53676</td>\n",
       "      <td>18.58280</td>\n",
       "      <td>18.34936</td>\n",
       "      <td>18.29215</td>\n",
       "      <td>QSO</td>\n",
       "      <td>0.522819</td>\n",
       "      <td>0.000155</td>\n",
       "    </tr>\n",
       "    <tr>\n",
       "      <th>1</th>\n",
       "      <td>19.24592</td>\n",
       "      <td>17.47646</td>\n",
       "      <td>16.47817</td>\n",
       "      <td>16.04472</td>\n",
       "      <td>15.68851</td>\n",
       "      <td>GALAXY</td>\n",
       "      <td>0.122846</td>\n",
       "      <td>0.000028</td>\n",
       "    </tr>\n",
       "    <tr>\n",
       "      <th>2</th>\n",
       "      <td>19.43536</td>\n",
       "      <td>17.70268</td>\n",
       "      <td>16.91565</td>\n",
       "      <td>16.58327</td>\n",
       "      <td>16.39128</td>\n",
       "      <td>GALAXY</td>\n",
       "      <td>0.000000</td>\n",
       "      <td>0.000000</td>\n",
       "    </tr>\n",
       "    <tr>\n",
       "      <th>3</th>\n",
       "      <td>19.31626</td>\n",
       "      <td>18.18312</td>\n",
       "      <td>17.39591</td>\n",
       "      <td>16.94549</td>\n",
       "      <td>16.65395</td>\n",
       "      <td>GALAXY</td>\n",
       "      <td>0.147435</td>\n",
       "      <td>0.000009</td>\n",
       "    </tr>\n",
       "    <tr>\n",
       "      <th>4</th>\n",
       "      <td>19.28828</td>\n",
       "      <td>19.11188</td>\n",
       "      <td>18.88937</td>\n",
       "      <td>18.80013</td>\n",
       "      <td>18.49183</td>\n",
       "      <td>QSO</td>\n",
       "      <td>2.011455</td>\n",
       "      <td>0.000631</td>\n",
       "    </tr>\n",
       "    <tr>\n",
       "      <th>...</th>\n",
       "      <td>...</td>\n",
       "      <td>...</td>\n",
       "      <td>...</td>\n",
       "      <td>...</td>\n",
       "      <td>...</td>\n",
       "      <td>...</td>\n",
       "      <td>...</td>\n",
       "      <td>...</td>\n",
       "    </tr>\n",
       "    <tr>\n",
       "      <th>49995</th>\n",
       "      <td>19.37295</td>\n",
       "      <td>18.12382</td>\n",
       "      <td>17.39886</td>\n",
       "      <td>16.98503</td>\n",
       "      <td>16.70585</td>\n",
       "      <td>GALAXY</td>\n",
       "      <td>0.113016</td>\n",
       "      <td>0.000011</td>\n",
       "    </tr>\n",
       "    <tr>\n",
       "      <th>49996</th>\n",
       "      <td>18.52021</td>\n",
       "      <td>16.88262</td>\n",
       "      <td>16.03280</td>\n",
       "      <td>15.56884</td>\n",
       "      <td>15.22454</td>\n",
       "      <td>GALAXY</td>\n",
       "      <td>0.085063</td>\n",
       "      <td>0.000014</td>\n",
       "    </tr>\n",
       "    <tr>\n",
       "      <th>49997</th>\n",
       "      <td>18.62718</td>\n",
       "      <td>17.30876</td>\n",
       "      <td>16.87371</td>\n",
       "      <td>16.62399</td>\n",
       "      <td>16.42296</td>\n",
       "      <td>GALAXY</td>\n",
       "      <td>0.054429</td>\n",
       "      <td>0.000008</td>\n",
       "    </tr>\n",
       "    <tr>\n",
       "      <th>49998</th>\n",
       "      <td>19.55140</td>\n",
       "      <td>18.27711</td>\n",
       "      <td>17.62101</td>\n",
       "      <td>17.21947</td>\n",
       "      <td>17.03347</td>\n",
       "      <td>GALAXY</td>\n",
       "      <td>0.112571</td>\n",
       "      <td>0.000009</td>\n",
       "    </tr>\n",
       "    <tr>\n",
       "      <th>49999</th>\n",
       "      <td>18.80772</td>\n",
       "      <td>17.75751</td>\n",
       "      <td>17.40500</td>\n",
       "      <td>17.21650</td>\n",
       "      <td>17.12295</td>\n",
       "      <td>GALAXY</td>\n",
       "      <td>0.043652</td>\n",
       "      <td>0.000007</td>\n",
       "    </tr>\n",
       "  </tbody>\n",
       "</table>\n",
       "<p>50000 rows × 8 columns</p>\n",
       "</div>"
      ],
      "text/plain": [
       "              u         g         r         i         z   class        z1  \\\n",
       "0      18.97213  18.53676  18.58280  18.34936  18.29215     QSO  0.522819   \n",
       "1      19.24592  17.47646  16.47817  16.04472  15.68851  GALAXY  0.122846   \n",
       "2      19.43536  17.70268  16.91565  16.58327  16.39128  GALAXY  0.000000   \n",
       "3      19.31626  18.18312  17.39591  16.94549  16.65395  GALAXY  0.147435   \n",
       "4      19.28828  19.11188  18.88937  18.80013  18.49183     QSO  2.011455   \n",
       "...         ...       ...       ...       ...       ...     ...       ...   \n",
       "49995  19.37295  18.12382  17.39886  16.98503  16.70585  GALAXY  0.113016   \n",
       "49996  18.52021  16.88262  16.03280  15.56884  15.22454  GALAXY  0.085063   \n",
       "49997  18.62718  17.30876  16.87371  16.62399  16.42296  GALAXY  0.054429   \n",
       "49998  19.55140  18.27711  17.62101  17.21947  17.03347  GALAXY  0.112571   \n",
       "49999  18.80772  17.75751  17.40500  17.21650  17.12295  GALAXY  0.043652   \n",
       "\n",
       "           zerr  \n",
       "0      0.000155  \n",
       "1      0.000028  \n",
       "2      0.000000  \n",
       "3      0.000009  \n",
       "4      0.000631  \n",
       "...         ...  \n",
       "49995  0.000011  \n",
       "49996  0.000014  \n",
       "49997  0.000008  \n",
       "49998  0.000009  \n",
       "49999  0.000007  \n",
       "\n",
       "[50000 rows x 8 columns]"
      ]
     },
     "execution_count": 3,
     "metadata": {},
     "output_type": "execute_result"
    }
   ],
   "source": [
    "import pandas as pd\n",
    "\n",
    "data = pd.read_csv(input_file_path)\n",
    "data"
   ]
  },
  {
   "cell_type": "markdown",
   "id": "253152da-8549-4efc-b332-27092883dd43",
   "metadata": {},
   "source": [
    "Color array"
   ]
  },
  {
   "cell_type": "code",
   "execution_count": 4,
   "id": "a352c414-09ce-4c5d-9818-c34028042b0c",
   "metadata": {},
   "outputs": [],
   "source": [
    "u_g = data['u'] - data['g']\n",
    "g_r = data['g'] - data['r']\n",
    "r_i = data['r'] - data['i']\n",
    "i_z = data['i'] - data['z']"
   ]
  },
  {
   "cell_type": "code",
   "execution_count": 5,
   "id": "a05aa0e4-c829-45b7-987b-e94de7aeed68",
   "metadata": {},
   "outputs": [
    {
     "name": "stdout",
     "output_type": "stream",
     "text": [
      "[[ 0.43537 -0.04604  0.23344  0.05721]\n",
      " [ 1.76946  0.99829  0.43345  0.35621]\n",
      " [ 1.73268  0.78703  0.33238  0.19199]\n",
      " ...\n",
      " [ 1.31842  0.43505  0.24972  0.20103]\n",
      " [ 1.27429  0.6561   0.40154  0.186  ]\n",
      " [ 1.05021  0.35251  0.1885   0.09355]]\n"
     ]
    }
   ],
   "source": [
    "X = np.array([u_g,g_r,r_i,i_z]).T\n",
    "print(X)"
   ]
  },
  {
   "cell_type": "code",
   "execution_count": 6,
   "id": "06032576-aaa1-49a4-8b4e-4e94fe6c7c53",
   "metadata": {},
   "outputs": [
    {
     "data": {
      "image/png": "[encoded data removed]",
      "text/plain": [
       "<Figure size 640x480 with 1 Axes>"
      ]
     },
     "metadata": {},
     "output_type": "display_data"
    }
   ],
   "source": [
    "plt.hist(u_g, 100, density=True, label='u_g', alpha=0.7)\n",
    "plt.hist(g_r, 200, density=True, label='g_r', alpha=0.7)\n",
    "plt.hist(r_i, 300, density=True, label='r_i', alpha=0.7)\n",
    "plt.hist(i_z, 300, density=True, label='i_z', alpha=0.7)\n",
    "plt.xlim(-1, +3)\n",
    "plt.legend()\n",
    "plt.show()"
   ]
  },
  {
   "cell_type": "markdown",
   "id": "d329b0d9-2441-45e6-b46a-6fbf02d01b03",
   "metadata": {},
   "source": [
    "Label array:\n",
    "\n",
    "galaxy --> 0\n",
    "\n",
    "quasar --> 1"
   ]
  },
  {
   "cell_type": "code",
   "execution_count": 7,
   "id": "704a687e-0f68-4aec-9914-b820ef20fa66",
   "metadata": {},
   "outputs": [],
   "source": [
    "# Define the mapping\n",
    "name_to_number = {\"GALAXY\": 0, \"QSO\": 1}\n",
    "\n",
    "# Convert the string array to an array of 0s and 1s\n",
    "labels = [name_to_number[name] for name in data['class']]\n",
    "y=labels"
   ]
  },
  {
   "cell_type": "code",
   "execution_count": 8,
   "id": "57387771-4f13-4071-bbbb-de47d0fe1bdb",
   "metadata": {},
   "outputs": [],
   "source": [
    "from astroML.classification import GMMBayes\n",
    "from astroML.utils.decorators import pickle_results\n",
    "from astroML.utils import split_samples\n",
    "from astroML.utils import completeness_contamination"
   ]
  },
  {
   "cell_type": "code",
   "execution_count": 9,
   "id": "4d8ebad9-76bd-48c1-a8ef-19f7ac86e535",
   "metadata": {},
   "outputs": [],
   "source": [
    "(X_train, X_test), (y_train, y_test) = split_samples(X, y, [0.75, 0.25],\n",
    "                                                     random_state=0)"
   ]
  },
  {
   "cell_type": "code",
   "execution_count": 10,
   "id": "0d6eeaf3-f511-43bb-88d1-75defbee9905",
   "metadata": {},
   "outputs": [],
   "source": [
    "N_tot = len(y)\n",
    "N_st = np.sum(y == 0)\n",
    "N_rr = N_tot - N_st\n",
    "N_train = len(y_train)\n",
    "N_test = len(y_test)\n",
    "N_plot = 5000 + N_rr"
   ]
  },
  {
   "cell_type": "code",
   "execution_count": 11,
   "id": "a6cab5de-8cf4-4d4e-a20c-166062cd1e97",
   "metadata": {},
   "outputs": [],
   "source": [
    "Ncolors = np.arange(1, X.shape[1] + 1)\n",
    "Ncomp = [1, 5]"
   ]
  },
  {
   "cell_type": "code",
   "execution_count": 13,
   "id": "092fae51-c5c7-48f6-bbd0-be18b3e8d538",
   "metadata": {},
   "outputs": [
    {
     "name": "stdout",
     "output_type": "stream",
     "text": [
      "completeness [[0.92743764 0.93027211 0.92687075 0.92573696]\n",
      " [0.93424036 0.92006803 0.93197279 0.92800454]]\n",
      "contamination [[0.06300115 0.0665529  0.0651801  0.06632361]\n",
      " [0.06575964 0.05309218 0.0546291  0.05594002]]\n"
     ]
    }
   ],
   "source": [
    "def compute_GMMbayes(Ncolors, Ncomp):\n",
    "    classifiers = []\n",
    "    predictions = []\n",
    "\n",
    "    for ncm in Ncomp:\n",
    "        classifiers.append([])\n",
    "        predictions.append([])\n",
    "        for nc in Ncolors:\n",
    "            clf = GMMBayes(ncm, tol=1E-5, covariance_type='full')\n",
    "            clf.fit(X_train[:, :nc], y_train)\n",
    "            y_pred = clf.predict(X_test[:, :nc])\n",
    "\n",
    "            classifiers[-1].append(clf)\n",
    "            predictions[-1].append(y_pred)\n",
    "\n",
    "    return classifiers, predictions\n",
    "\n",
    "classifiers, predictions = compute_GMMbayes(Ncolors, Ncomp)\n",
    "\n",
    "completeness, contamination = completeness_contamination(predictions, y_test)\n",
    "\n",
    "print(\"completeness\", completeness)\n",
    "print(\"contamination\", contamination)"
   ]
  },
  {
   "cell_type": "code",
   "execution_count": 18,
   "id": "1a6fdf0c-a775-4fb7-95e2-d9f1e61f248c",
   "metadata": {},
   "outputs": [
    {
     "name": "stdout",
     "output_type": "stream",
     "text": [
      "[[array([0, 0, 0, ..., 1, 0, 0]), array([0, 0, 0, ..., 1, 0, 0]), array([0, 0, 0, ..., 1, 0, 0]), array([0, 0, 0, ..., 1, 0, 0])], [array([0, 0, 0, ..., 1, 0, 0]), array([0, 0, 0, ..., 1, 0, 0]), array([0, 0, 0, ..., 1, 0, 0]), array([0, 0, 0, ..., 1, 0, 0])]]\n"
     ]
    }
   ],
   "source": [
    "print(predictions)"
   ]
  },
  {
   "cell_type": "code",
   "execution_count": 19,
   "id": "46e83f50-6cab-48d6-a7cf-9b3f0a378471",
   "metadata": {},
   "outputs": [],
   "source": [
    "# Compute the decision boundary\n",
    "clf = classifiers[1][1]\n",
    "xlim = (-10, 5)\n",
    "ylim = (-2, 5)\n",
    "\n",
    "xx, yy = np.meshgrid(np.linspace(xlim[0], xlim[1], 71),\n",
    "                     np.linspace(ylim[0], ylim[1], 81))\n",
    "\n",
    "Z = clf.predict_proba(np.c_[yy.ravel(), xx.ravel()])\n",
    "Z = Z[:, 1].reshape(xx.shape)"
   ]
  },
  {
   "cell_type": "code",
   "execution_count": null,
   "id": "1e56ed35-1df5-4058-9db4-f2458f05ec33",
   "metadata": {},
   "outputs": [],
   "source": []
  }
 ],
 "metadata": {
  "kernelspec": {
   "display_name": "Python 3 (ipykernel)",
   "language": "python",
   "name": "python3"
  },
  "language_info": {
   "codemirror_mode": {
    "name": "ipython",
    "version": 3
   },
   "file_extension": ".py",
   "mimetype": "text/x-python",
   "name": "python",
   "nbconvert_exporter": "python",
   "pygments_lexer": "ipython3",
   "version": "3.11.2"
  }
 },
 "nbformat": 4,
 "nbformat_minor": 5
}
