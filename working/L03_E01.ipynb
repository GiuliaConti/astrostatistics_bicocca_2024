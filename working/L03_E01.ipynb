{
 "cells": [
  {
   "cell_type": "markdown",
   "id": "26f5e389-543f-49f7-bce1-900c54318864",
   "metadata": {},
   "source": [
    "LEZIONE 3 - ESERCIZIO 1"
   ]
  },
  {
   "cell_type": "code",
   "execution_count": 1,
   "id": "86dc421b-ebea-4bba-a941-dc46b5349b7a",
   "metadata": {},
   "outputs": [],
   "source": [
    "import numpy as np\n",
    "import scipy.stats\n",
    "import pylab as plt"
   ]
  },
  {
   "cell_type": "code",
   "execution_count": 2,
   "id": "88e35319-d6ab-4ecf-9a73-3cee98fbe519",
   "metadata": {},
   "outputs": [],
   "source": [
    "def f(x, sigma):\n",
    "    return 0.5* np.sqrt(2*np.pi*sigma**2) * x**3"
   ]
  },
  {
   "cell_type": "markdown",
   "id": "b4ee6f0b-f8eb-426d-9ff3-6eb9d392fdc3",
   "metadata": {},
   "source": [
    "We divided by 2 because we computed the absolute value of the distribution, in order to integrate only over the positive x"
   ]
  },
  {
   "cell_type": "code",
   "execution_count": 3,
   "id": "6bcd11a4-bc28-45d8-9eff-87db9f73ef9d",
   "metadata": {},
   "outputs": [],
   "source": [
    "def inte (x, sigma, N):\n",
    "    return (1/N)* np.sum(f(x, sigma)) "
   ]
  },
  {
   "cell_type": "code",
   "execution_count": 4,
   "id": "d1665a15-b690-4c25-a40e-2a0c8c7f7500",
   "metadata": {},
   "outputs": [],
   "source": [
    "mu, sigma = 0., 5. # mean and standard deviation\n",
    "N = 10000"
   ]
  },
  {
   "cell_type": "code",
   "execution_count": 5,
   "id": "9d963fda-c0b0-4c2a-9a96-2b72975a93f5",
   "metadata": {},
   "outputs": [],
   "source": [
    "x_i_abs = np.abs(np.random.normal(mu, sigma, N))"
   ]
  },
  {
   "cell_type": "code",
   "execution_count": 6,
   "id": "70a4b478-784e-43d8-8de6-b1297f9252a9",
   "metadata": {},
   "outputs": [
    {
     "name": "stdout",
     "output_type": "stream",
     "text": [
      "Integral: 1244.7001329294246\n",
      "Expected value: 1250.0\n"
     ]
    }
   ],
   "source": [
    "inte_value = inte(x_i_abs, sigma, N)\n",
    "expected_value = 2*sigma**4\n",
    "\n",
    "print('Integral: ' + str(inte_value))\n",
    "print('Expected value: ' + str(expected_value))"
   ]
  },
  {
   "cell_type": "code",
   "execution_count": 7,
   "id": "46af8eb1-bc9f-4c81-b7e3-bd8bb622031a",
   "metadata": {},
   "outputs": [
    {
     "name": "stdout",
     "output_type": "stream",
     "text": [
      "Error: 5.299867070575374\n"
     ]
    }
   ],
   "source": [
    "error = np.abs(inte_value - expected_value)\n",
    "print('Error: ' + str(error))"
   ]
  },
  {
   "cell_type": "code",
   "execution_count": 8,
   "id": "d4f5c233-8976-4642-bbff-b5ffece3b52b",
   "metadata": {},
   "outputs": [
    {
     "data": {
      "text/plain": [
       "(array([ 1.,  0.,  1.,  0.,  0.,  0.,  1.,  0.,  1.,  1.,  3.,  3.,  1.,\n",
       "         3.,  2.,  5.,  4.,  1.,  4.,  6.,  6.,  3.,  6.,  6., 16.,  4.,\n",
       "         3.,  2.,  2.,  6.,  1.,  0.,  2.,  1.,  0.,  1.,  0.,  0.,  1.,\n",
       "         0.,  0.,  0.,  0.,  1.,  1.,  0.,  0.,  0.,  0.,  1.]),\n",
       " array([-82.31854035, -78.40638746, -74.49423456, -70.58208167,\n",
       "        -66.66992877, -62.75777588, -58.84562298, -54.93347009,\n",
       "        -51.02131719, -47.1091643 , -43.1970114 , -39.28485851,\n",
       "        -35.37270561, -31.46055272, -27.54839982, -23.63624693,\n",
       "        -19.72409403, -15.81194114, -11.89978824,  -7.98763535,\n",
       "         -4.07548245,  -0.16332956,   3.74882334,   7.66097623,\n",
       "         11.57312913,  15.48528202,  19.39743492,  23.30958781,\n",
       "         27.22174071,  31.1338936 ,  35.0460465 ,  38.95819939,\n",
       "         42.87035229,  46.78250518,  50.69465808,  54.60681097,\n",
       "         58.51896387,  62.43111676,  66.34326965,  70.25542255,\n",
       "         74.16757544,  78.07972834,  81.99188123,  85.90403413,\n",
       "         89.81618702,  93.72833992,  97.64049281, 101.55264571,\n",
       "        105.4647986 , 109.3769515 , 113.28910439]),\n",
       " [<matplotlib.patches.Polygon at 0x14836da10>])"
      ]
     },
     "execution_count": 8,
     "metadata": {},
     "output_type": "execute_result"
    },
    {
     "data": {
      "image/png": "[encoded data removed]",
      "text/plain": [
       "<Figure size 640x480 with 1 Axes>"
      ]
     },
     "metadata": {},
     "output_type": "display_data"
    }
   ],
   "source": [
    "n_toy=100\n",
    "error_toy = np.zeros(n_toy, dtype=float)\n",
    "\n",
    "for i_toy in range(n_toy):\n",
    "    x_i_abs = np.abs(np.random.normal(mu, sigma, N))\n",
    "    inte_value = inte(x_i_abs, sigma, N)\n",
    "    expected_value = 2*sigma**4\n",
    "    error = inte_value - expected_value\n",
    "    error_toy[i_toy]=error\n",
    "    \n",
    "plt.hist(error_toy,bins=50,histtype='step')"
   ]
  },
  {
   "cell_type": "code",
   "execution_count": null,
   "id": "86cd88cc-0309-407c-a030-668adb3a36ec",
   "metadata": {},
   "outputs": [],
   "source": []
  },
  {
   "cell_type": "code",
   "execution_count": 9,
   "id": "53955a47-ae84-4e1e-b5c9-a010f9ebf5b5",
   "metadata": {},
   "outputs": [
    {
     "data": {
      "text/plain": [
       "(array([ 1.,  0.,  1.,  0.,  0.,  0.,  0.,  0.,  0.,  5.,  0.,  1.,  1.,\n",
       "         3.,  1.,  4.,  6.,  7.,  3.,  7., 10.,  7.,  5.,  8., 13.,  8.,\n",
       "        10., 14.,  8.,  8., 13., 14., 16., 13., 20., 23., 28., 23., 25.,\n",
       "        27., 22., 27., 28., 22., 28., 25., 28., 20., 29., 17., 22., 28.,\n",
       "        34., 22., 25., 18., 27., 20., 22., 20., 20., 10., 11., 16., 19.,\n",
       "        12., 11.,  7., 12.,  8., 10.,  6.,  6.,  2.,  7.,  1.,  4.,  2.,\n",
       "         2.,  4.,  2.,  1.,  1.,  1.,  0.,  2.,  1.,  1.,  1.,  1.,  0.,\n",
       "         1.,  0.,  0.,  0.,  0.,  0.,  0.,  0.,  1.]),\n",
       " array([-87.29188182, -85.40975152, -83.52762121, -81.6454909 ,\n",
       "        -79.76336059, -77.88123028, -75.99909998, -74.11696967,\n",
       "        -72.23483936, -70.35270905, -68.47057874, -66.58844844,\n",
       "        -64.70631813, -62.82418782, -60.94205751, -59.05992721,\n",
       "        -57.1777969 , -55.29566659, -53.41353628, -51.53140597,\n",
       "        -49.64927567, -47.76714536, -45.88501505, -44.00288474,\n",
       "        -42.12075443, -40.23862413, -38.35649382, -36.47436351,\n",
       "        -34.5922332 , -32.71010289, -30.82797259, -28.94584228,\n",
       "        -27.06371197, -25.18158166, -23.29945135, -21.41732105,\n",
       "        -19.53519074, -17.65306043, -15.77093012, -13.88879981,\n",
       "        -12.00666951, -10.1245392 ,  -8.24240889,  -6.36027858,\n",
       "         -4.47814828,  -2.59601797,  -0.71388766,   1.16824265,\n",
       "          3.05037296,   4.93250326,   6.81463357,   8.69676388,\n",
       "         10.57889419,  12.4610245 ,  14.3431548 ,  16.22528511,\n",
       "         18.10741542,  19.98954573,  21.87167604,  23.75380634,\n",
       "         25.63593665,  27.51806696,  29.40019727,  31.28232758,\n",
       "         33.16445788,  35.04658819,  36.9287185 ,  38.81084881,\n",
       "         40.69297911,  42.57510942,  44.45723973,  46.33937004,\n",
       "         48.22150035,  50.10363065,  51.98576096,  53.86789127,\n",
       "         55.75002158,  57.63215189,  59.51428219,  61.3964125 ,\n",
       "         63.27854281,  65.16067312,  67.04280343,  68.92493373,\n",
       "         70.80706404,  72.68919435,  74.57132466,  76.45345497,\n",
       "         78.33558527,  80.21771558,  82.09984589,  83.9819762 ,\n",
       "         85.8641065 ,  87.74623681,  89.62836712,  91.51049743,\n",
       "         93.39262774,  95.27475804,  97.15688835,  99.03901866,\n",
       "        100.92114897]),\n",
       " [<matplotlib.patches.Polygon at 0x1483ca350>])"
      ]
     },
     "execution_count": 9,
     "metadata": {},
     "output_type": "execute_result"
    },
    {
     "data": {
      "image/png": "[encoded data removed]",
      "text/plain": [
       "<Figure size 640x480 with 1 Axes>"
      ]
     },
     "metadata": {},
     "output_type": "display_data"
    }
   ],
   "source": [
    "n_toy=1000\n",
    "error_toy = np.zeros(n_toy, dtype=float)\n",
    "\n",
    "for i_toy in range(n_toy):\n",
    "    x_i_abs = np.abs(np.random.normal(mu, sigma, N))\n",
    "    inte_value = inte(x_i_abs, sigma, N)\n",
    "    expected_value = 2*sigma**4\n",
    "    error = inte_value - expected_value\n",
    "    error_toy[i_toy]=error\n",
    "    \n",
    "plt.hist(error_toy,bins=100,histtype='step')"
   ]
  },
  {
   "cell_type": "code",
   "execution_count": null,
   "id": "81eac099-d32a-4f8d-92d8-b062e04dad5a",
   "metadata": {},
   "outputs": [],
   "source": []
  },
  {
   "cell_type": "code",
   "execution_count": 10,
   "id": "a14d1e0a-d871-4d94-8eac-d35b01d9be5f",
   "metadata": {},
   "outputs": [
    {
     "data": {
      "text/plain": [
       "(array([  1.,   0.,   1.,   1.,   0.,   1.,   5.,   3.,   1.,   5.,   5.,\n",
       "          9.,   8.,   8.,   6.,  15.,  15.,  23.,  30.,  30.,  45.,  43.,\n",
       "         50.,  54.,  78.,  89.,  96., 105., 121., 110., 139., 162., 159.,\n",
       "        167., 223., 241., 247., 237., 255., 280., 265., 282., 296., 310.,\n",
       "        310., 318., 302., 323., 334., 304., 311., 272., 269., 279., 256.,\n",
       "        235., 199., 173., 225., 195., 163., 126., 157., 147., 127., 110.,\n",
       "        101.,  86.,  67.,  48.,  59.,  45.,  43.,  48.,  26.,  24.,  24.,\n",
       "          8.,  12.,  12.,   7.,   7.,   5.,   6.,   1.,   4.,   2.,   0.,\n",
       "          2.,   0.,   1.,   2.,   0.,   1.,   1.,   1.,   0.,   0.,   0.,\n",
       "          1.]),\n",
       " array([-100.84469053,  -98.68426245,  -96.52383438,  -94.3634063 ,\n",
       "         -92.20297823,  -90.04255015,  -87.88212208,  -85.721694  ,\n",
       "         -83.56126593,  -81.40083786,  -79.24040978,  -77.07998171,\n",
       "         -74.91955363,  -72.75912556,  -70.59869748,  -68.43826941,\n",
       "         -66.27784133,  -64.11741326,  -61.95698519,  -59.79655711,\n",
       "         -57.63612904,  -55.47570096,  -53.31527289,  -51.15484481,\n",
       "         -48.99441674,  -46.83398866,  -44.67356059,  -42.51313251,\n",
       "         -40.35270444,  -38.19227637,  -36.03184829,  -33.87142022,\n",
       "         -31.71099214,  -29.55056407,  -27.39013599,  -25.22970792,\n",
       "         -23.06927984,  -20.90885177,  -18.7484237 ,  -16.58799562,\n",
       "         -14.42756755,  -12.26713947,  -10.1067114 ,   -7.94628332,\n",
       "          -5.78585525,   -3.62542717,   -1.4649991 ,    0.69542897,\n",
       "           2.85585705,    5.01628512,    7.1767132 ,    9.33714127,\n",
       "          11.49756935,   13.65799742,   15.8184255 ,   17.97885357,\n",
       "          20.13928165,   22.29970972,   24.46013779,   26.62056587,\n",
       "          28.78099394,   30.94142202,   33.10185009,   35.26227817,\n",
       "          37.42270624,   39.58313432,   41.74356239,   43.90399046,\n",
       "          46.06441854,   48.22484661,   50.38527469,   52.54570276,\n",
       "          54.70613084,   56.86655891,   59.02698699,   61.18741506,\n",
       "          63.34784313,   65.50827121,   67.66869928,   69.82912736,\n",
       "          71.98955543,   74.14998351,   76.31041158,   78.47083966,\n",
       "          80.63126773,   82.79169581,   84.95212388,   87.11255195,\n",
       "          89.27298003,   91.4334081 ,   93.59383618,   95.75426425,\n",
       "          97.91469233,  100.0751204 ,  102.23554848,  104.39597655,\n",
       "         106.55640462,  108.7168327 ,  110.87726077,  113.03768885,\n",
       "         115.19811692]),\n",
       " [<matplotlib.patches.Polygon at 0x148483910>])"
      ]
     },
     "execution_count": 10,
     "metadata": {},
     "output_type": "execute_result"
    },
    {
     "data": {
      "image/png": "[encoded data removed]",
      "text/plain": [
       "<Figure size 640x480 with 1 Axes>"
      ]
     },
     "metadata": {},
     "output_type": "display_data"
    }
   ],
   "source": [
    "n_toy=10000\n",
    "\n",
    "error_toy = np.zeros(n_toy, dtype=float)\n",
    "\n",
    "for i_toy in range(n_toy):\n",
    "    x_i_abs = np.abs(np.random.normal(mu, sigma, N))\n",
    "    inte_value = inte(x_i_abs, sigma, N)\n",
    "    expected_value = 2*sigma**4\n",
    "    error = inte_value - expected_value\n",
    "    error_toy[i_toy]=error\n",
    "    \n",
    "plt.hist(error_toy,bins=100,histtype='step')"
   ]
  },
  {
   "cell_type": "code",
   "execution_count": null,
   "id": "34f26dd4-d0e0-464e-8775-c66430227553",
   "metadata": {},
   "outputs": [],
   "source": []
  }
 ],
 "metadata": {
  "kernelspec": {
   "display_name": "Python 3 (ipykernel)",
   "language": "python",
   "name": "python3"
  },
  "language_info": {
   "codemirror_mode": {
    "name": "ipython",
    "version": 3
   },
   "file_extension": ".py",
   "mimetype": "text/x-python",
   "name": "python",
   "nbconvert_exporter": "python",
   "pygments_lexer": "ipython3",
   "version": "3.11.2"
  }
 },
 "nbformat": 4,
 "nbformat_minor": 5
}
