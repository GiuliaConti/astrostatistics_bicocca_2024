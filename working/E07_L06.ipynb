{
 "cells": [
  {
   "cell_type": "code",
   "execution_count": 1,
   "id": "c0499c98-3df2-4ee4-97f8-58d03ac90047",
   "metadata": {},
   "outputs": [],
   "source": [
    "import numpy as np                        # Math\n",
    "import scipy.stats                        # Statistics\n",
    "from matplotlib import pyplot as plt      # Plots\n",
    "import sklearn\n",
    "from sklearn.mixture import GaussianMixture"
   ]
  },
  {
   "cell_type": "code",
   "execution_count": 2,
   "id": "aa18cca3-7bd5-4cd8-bb86-cce0baa2d2c0",
   "metadata": {},
   "outputs": [
    {
     "name": "stdout",
     "output_type": "stream",
     "text": [
      "Shape: (2950, 1)\n"
     ]
    }
   ],
   "source": [
    "data = np.load('formationchannels.npy')\n",
    "print('Shape:', (data).shape)"
   ]
  },
  {
   "cell_type": "code",
   "execution_count": 3,
   "id": "772d140a-6895-45ec-866f-8ec74b46c8f2",
   "metadata": {},
   "outputs": [],
   "source": [
    "ncomponents = 3\n",
    "\n",
    "model = GaussianMixture(n_components=ncomponents)\n",
    "gm = model.fit(data)"
   ]
  },
  {
   "cell_type": "code",
   "execution_count": 4,
   "id": "966875b5-7af4-4e2f-bff4-8ae37e321ca1",
   "metadata": {},
   "outputs": [],
   "source": [
    "x0 = np.linspace(0,50,1000)\n",
    "x = x0[:,np.newaxis]\n",
    "\n",
    "# label = gm.predict(x)"
   ]
  },
  {
   "cell_type": "code",
   "execution_count": 15,
   "id": "18eb2f50-969f-4da4-af46-2456be9dd851",
   "metadata": {},
   "outputs": [
    {
     "data": {
      "image/png": "[encoded data removed]",
      "text/plain": [
       "<Figure size 640x480 with 1 Axes>"
      ]
     },
     "metadata": {},
     "output_type": "display_data"
    }
   ],
   "source": [
    "plt.hist(data, bins=100, density=True, alpha=0.4)\n",
    "\n",
    "#plt.plot(x, gm.predict_proba(x))\n",
    "#probabilities = gm.predict_proba(x)\n",
    "#total_distribution = probabilities[:,0] + probabilities[:,1] + probabilities[:,2]\n",
    "#print(probabilities)\n",
    "#print(total_distribution)\n",
    "#plt.plot(x, probabilities)\n",
    "\n",
    "#plt.hist(total_distribution, bins=100, density=False, alpha=0.6, color='g')\n",
    "\n",
    "n_sample = 100000\n",
    "samples = gm.sample(n_sample)\n",
    "#print(samples)\n",
    "\n",
    "plt.hist(samples[0], bins=100, density=True, histtype='step')\n",
    "\n",
    "\n",
    "plt.show()\n",
    "\n"
   ]
  },
  {
   "cell_type": "code",
   "execution_count": null,
   "id": "9cac4b4f-b156-44a7-b55f-d2b40f6216a7",
   "metadata": {},
   "outputs": [],
   "source": []
  },
  {
   "cell_type": "code",
   "execution_count": null,
   "id": "4bd52008-5391-4860-b292-cc6e9925acf7",
   "metadata": {},
   "outputs": [],
   "source": []
  }
 ],
 "metadata": {
  "kernelspec": {
   "display_name": "Python 3 (ipykernel)",
   "language": "python",
   "name": "python3"
  },
  "language_info": {
   "codemirror_mode": {
    "name": "ipython",
    "version": 3
   },
   "file_extension": ".py",
   "mimetype": "text/x-python",
   "name": "python",
   "nbconvert_exporter": "python",
   "pygments_lexer": "ipython3",
   "version": "3.11.2"
  }
 },
 "nbformat": 4,
 "nbformat_minor": 5
}
